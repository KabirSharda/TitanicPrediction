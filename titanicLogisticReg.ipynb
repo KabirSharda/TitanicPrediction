{
 "cells": [
  {
   "cell_type": "markdown",
   "id": "423fdfd4-0393-46cd-b9f1-13da506dd078",
   "metadata": {},
   "source": [
    "<h1>Titanic Survival Prediction</h1>\n",
    "<h3>Description</h3>\n",
    "<p>Titanic Dataset on Kaggle comes in two parts, train and test dataset. There are eleven predictor features including 'PassengerId'. The target feature is 'Survived', which can take two values 0 and 1. Each row is a person who boarded the Titanic. Given the predictor variables we have to find if the passenger in the test dataset survived. Our plan would be to fit a <b>Classification algorithm</b> on the train dataset and predict the target variable in test dataset.</p>\n"
   ]
  },
  {
   "cell_type": "code",
   "execution_count": 1040,
   "id": "9fa50c78-b718-4b31-9ae0-5fcd742eea88",
   "metadata": {},
   "outputs": [],
   "source": [
    "import pandas as pd\n",
    "import numpy as np\n",
    "import seaborn as sns\n",
    "import matplotlib.pyplot as plt\n",
    "from sklearn.linear_model import LogisticRegression, LogisticRegressionCV\n",
    "from sklearn.model_selection import KFold, GridSearchCV\n",
    "from sklearn.model_selection import cross_validate\n",
    "from sklearn.metrics import confusion_matrix\n",
    "import sklearn.metrics as metrics\n",
    "from sklearn.preprocessing import StandardScaler,LabelEncoder\n",
    "from scipy.stats import chi2_contingency, boxcox\n",
    "import scipy.stats as stats\n",
    "import sklearn.preprocessing as preprocessing\n"
   ]
  },
  {
   "cell_type": "code",
   "execution_count": 1041,
   "id": "28975c8a-61c3-437c-905d-08393b773dd8",
   "metadata": {},
   "outputs": [],
   "source": [
    "train = pd.read_csv('Dataset/train.csv')\n",
    "test = pd.read_csv('Dataset/test.csv')"
   ]
  },
  {
   "cell_type": "code",
   "execution_count": 1042,
   "id": "743cfb63-2f0d-4aad-b3a6-a6f701c2301a",
   "metadata": {},
   "outputs": [
    {
     "data": {
      "text/html": [
       "<div>\n",
       "<style scoped>\n",
       "    .dataframe tbody tr th:only-of-type {\n",
       "        vertical-align: middle;\n",
       "    }\n",
       "\n",
       "    .dataframe tbody tr th {\n",
       "        vertical-align: top;\n",
       "    }\n",
       "\n",
       "    .dataframe thead th {\n",
       "        text-align: right;\n",
       "    }\n",
       "</style>\n",
       "<table border=\"1\" class=\"dataframe\">\n",
       "  <thead>\n",
       "    <tr style=\"text-align: right;\">\n",
       "      <th></th>\n",
       "      <th>PassengerId</th>\n",
       "      <th>Survived</th>\n",
       "      <th>Pclass</th>\n",
       "      <th>Name</th>\n",
       "      <th>Sex</th>\n",
       "      <th>Age</th>\n",
       "      <th>SibSp</th>\n",
       "      <th>Parch</th>\n",
       "      <th>Ticket</th>\n",
       "      <th>Fare</th>\n",
       "      <th>Cabin</th>\n",
       "      <th>Embarked</th>\n",
       "    </tr>\n",
       "  </thead>\n",
       "  <tbody>\n",
       "    <tr>\n",
       "      <th>0</th>\n",
       "      <td>1</td>\n",
       "      <td>0</td>\n",
       "      <td>3</td>\n",
       "      <td>Braund, Mr. Owen Harris</td>\n",
       "      <td>male</td>\n",
       "      <td>22.0</td>\n",
       "      <td>1</td>\n",
       "      <td>0</td>\n",
       "      <td>A/5 21171</td>\n",
       "      <td>7.2500</td>\n",
       "      <td>NaN</td>\n",
       "      <td>S</td>\n",
       "    </tr>\n",
       "    <tr>\n",
       "      <th>1</th>\n",
       "      <td>2</td>\n",
       "      <td>1</td>\n",
       "      <td>1</td>\n",
       "      <td>Cumings, Mrs. John Bradley (Florence Briggs Th...</td>\n",
       "      <td>female</td>\n",
       "      <td>38.0</td>\n",
       "      <td>1</td>\n",
       "      <td>0</td>\n",
       "      <td>PC 17599</td>\n",
       "      <td>71.2833</td>\n",
       "      <td>C85</td>\n",
       "      <td>C</td>\n",
       "    </tr>\n",
       "    <tr>\n",
       "      <th>2</th>\n",
       "      <td>3</td>\n",
       "      <td>1</td>\n",
       "      <td>3</td>\n",
       "      <td>Heikkinen, Miss. Laina</td>\n",
       "      <td>female</td>\n",
       "      <td>26.0</td>\n",
       "      <td>0</td>\n",
       "      <td>0</td>\n",
       "      <td>STON/O2. 3101282</td>\n",
       "      <td>7.9250</td>\n",
       "      <td>NaN</td>\n",
       "      <td>S</td>\n",
       "    </tr>\n",
       "    <tr>\n",
       "      <th>3</th>\n",
       "      <td>4</td>\n",
       "      <td>1</td>\n",
       "      <td>1</td>\n",
       "      <td>Futrelle, Mrs. Jacques Heath (Lily May Peel)</td>\n",
       "      <td>female</td>\n",
       "      <td>35.0</td>\n",
       "      <td>1</td>\n",
       "      <td>0</td>\n",
       "      <td>113803</td>\n",
       "      <td>53.1000</td>\n",
       "      <td>C123</td>\n",
       "      <td>S</td>\n",
       "    </tr>\n",
       "    <tr>\n",
       "      <th>4</th>\n",
       "      <td>5</td>\n",
       "      <td>0</td>\n",
       "      <td>3</td>\n",
       "      <td>Allen, Mr. William Henry</td>\n",
       "      <td>male</td>\n",
       "      <td>35.0</td>\n",
       "      <td>0</td>\n",
       "      <td>0</td>\n",
       "      <td>373450</td>\n",
       "      <td>8.0500</td>\n",
       "      <td>NaN</td>\n",
       "      <td>S</td>\n",
       "    </tr>\n",
       "  </tbody>\n",
       "</table>\n",
       "</div>"
      ],
      "text/plain": [
       "   PassengerId  Survived  Pclass  \\\n",
       "0            1         0       3   \n",
       "1            2         1       1   \n",
       "2            3         1       3   \n",
       "3            4         1       1   \n",
       "4            5         0       3   \n",
       "\n",
       "                                                Name     Sex   Age  SibSp  \\\n",
       "0                            Braund, Mr. Owen Harris    male  22.0      1   \n",
       "1  Cumings, Mrs. John Bradley (Florence Briggs Th...  female  38.0      1   \n",
       "2                             Heikkinen, Miss. Laina  female  26.0      0   \n",
       "3       Futrelle, Mrs. Jacques Heath (Lily May Peel)  female  35.0      1   \n",
       "4                           Allen, Mr. William Henry    male  35.0      0   \n",
       "\n",
       "   Parch            Ticket     Fare Cabin Embarked  \n",
       "0      0         A/5 21171   7.2500   NaN        S  \n",
       "1      0          PC 17599  71.2833   C85        C  \n",
       "2      0  STON/O2. 3101282   7.9250   NaN        S  \n",
       "3      0            113803  53.1000  C123        S  \n",
       "4      0            373450   8.0500   NaN        S  "
      ]
     },
     "execution_count": 1042,
     "metadata": {},
     "output_type": "execute_result"
    }
   ],
   "source": [
    "train.head()"
   ]
  },
  {
   "cell_type": "code",
   "execution_count": 1043,
   "id": "9840f656-dc56-4340-bcaa-ab51e91d749f",
   "metadata": {},
   "outputs": [
    {
     "data": {
      "text/plain": [
       "(891, 12)"
      ]
     },
     "execution_count": 1043,
     "metadata": {},
     "output_type": "execute_result"
    }
   ],
   "source": [
    "train.shape"
   ]
  },
  {
   "cell_type": "code",
   "execution_count": 1044,
   "id": "608bdb4f-b2e9-4d10-b47e-213cd4f0e2b9",
   "metadata": {},
   "outputs": [
    {
     "data": {
      "text/plain": [
       "(418, 11)"
      ]
     },
     "execution_count": 1044,
     "metadata": {},
     "output_type": "execute_result"
    }
   ],
   "source": [
    "test.shape"
   ]
  },
  {
   "cell_type": "code",
   "execution_count": 1045,
   "id": "cd180086-ec37-40ac-91bf-a45500ff80d7",
   "metadata": {},
   "outputs": [
    {
     "name": "stdout",
     "output_type": "stream",
     "text": [
      "<class 'pandas.core.frame.DataFrame'>\n",
      "RangeIndex: 891 entries, 0 to 890\n",
      "Data columns (total 12 columns):\n",
      " #   Column       Non-Null Count  Dtype  \n",
      "---  ------       --------------  -----  \n",
      " 0   PassengerId  891 non-null    int64  \n",
      " 1   Survived     891 non-null    int64  \n",
      " 2   Pclass       891 non-null    int64  \n",
      " 3   Name         891 non-null    object \n",
      " 4   Sex          891 non-null    object \n",
      " 5   Age          714 non-null    float64\n",
      " 6   SibSp        891 non-null    int64  \n",
      " 7   Parch        891 non-null    int64  \n",
      " 8   Ticket       891 non-null    object \n",
      " 9   Fare         891 non-null    float64\n",
      " 10  Cabin        204 non-null    object \n",
      " 11  Embarked     889 non-null    object \n",
      "dtypes: float64(2), int64(5), object(5)\n",
      "memory usage: 83.7+ KB\n"
     ]
    }
   ],
   "source": [
    "train.info()"
   ]
  },
  {
   "cell_type": "markdown",
   "id": "017f6c7e-6566-432f-bfd1-71db52c8ee4d",
   "metadata": {},
   "source": [
    "<h3>Check For missing values</h3>"
   ]
  },
  {
   "cell_type": "code",
   "execution_count": 1046,
   "id": "373b06e3-5888-4d2e-8410-3a299cf46974",
   "metadata": {},
   "outputs": [
    {
     "data": {
      "text/plain": [
       "PassengerId      0\n",
       "Survived         0\n",
       "Pclass           0\n",
       "Name             0\n",
       "Sex              0\n",
       "Age            177\n",
       "SibSp            0\n",
       "Parch            0\n",
       "Ticket           0\n",
       "Fare             0\n",
       "Cabin          687\n",
       "Embarked         2\n",
       "dtype: int64"
      ]
     },
     "execution_count": 1046,
     "metadata": {},
     "output_type": "execute_result"
    }
   ],
   "source": [
    "train.isna().sum()"
   ]
  },
  {
   "cell_type": "code",
   "execution_count": 1047,
   "id": "cc1b2cf3-bf01-4dcb-a2b9-7b088c109363",
   "metadata": {},
   "outputs": [
    {
     "data": {
      "text/plain": [
       "PassengerId      0\n",
       "Pclass           0\n",
       "Name             0\n",
       "Sex              0\n",
       "Age             86\n",
       "SibSp            0\n",
       "Parch            0\n",
       "Ticket           0\n",
       "Fare             1\n",
       "Cabin          327\n",
       "Embarked         0\n",
       "dtype: int64"
      ]
     },
     "execution_count": 1047,
     "metadata": {},
     "output_type": "execute_result"
    }
   ],
   "source": [
    "test.isna().sum()"
   ]
  },
  {
   "cell_type": "markdown",
   "id": "ac361266-0df7-4b9d-9674-2306a4b5404e",
   "metadata": {},
   "source": [
    "<h4> Dealing with train and test dataset missing values</h4>\n",
    "<p> In train dataset, there are 177 missing values in Age columns, 687 missing values in Cabin column and 2 missing values in Embarked column</p>\n",
    "<p> In test dataset there are 86 missing values in Age column, 327 missing values in Cabin column and 1 missing value in Fare Column"
   ]
  },
  {
   "cell_type": "markdown",
   "id": "a4f43531-df6e-4371-8613-5118b055e707",
   "metadata": {},
   "source": [
    "<h3>Train dataset</h3>"
   ]
  },
  {
   "cell_type": "markdown",
   "id": "d8ae2184-85bd-4373-bf9d-86bca2fa52ab",
   "metadata": {},
   "source": [
    "<h3> Embarked Column </h3>\n",
    "<p>We will work on Embarked column which has two missing values</p>\n",
    "<p>Let's check the record who has missing values in Embarked column</p>"
   ]
  },
  {
   "cell_type": "code",
   "execution_count": 1048,
   "id": "ff220763-224c-4e2c-bce7-22a17ae25094",
   "metadata": {},
   "outputs": [
    {
     "data": {
      "text/html": [
       "<div>\n",
       "<style scoped>\n",
       "    .dataframe tbody tr th:only-of-type {\n",
       "        vertical-align: middle;\n",
       "    }\n",
       "\n",
       "    .dataframe tbody tr th {\n",
       "        vertical-align: top;\n",
       "    }\n",
       "\n",
       "    .dataframe thead th {\n",
       "        text-align: right;\n",
       "    }\n",
       "</style>\n",
       "<table border=\"1\" class=\"dataframe\">\n",
       "  <thead>\n",
       "    <tr style=\"text-align: right;\">\n",
       "      <th></th>\n",
       "      <th>PassengerId</th>\n",
       "      <th>Survived</th>\n",
       "      <th>Pclass</th>\n",
       "      <th>Name</th>\n",
       "      <th>Sex</th>\n",
       "      <th>Age</th>\n",
       "      <th>SibSp</th>\n",
       "      <th>Parch</th>\n",
       "      <th>Ticket</th>\n",
       "      <th>Fare</th>\n",
       "      <th>Cabin</th>\n",
       "      <th>Embarked</th>\n",
       "    </tr>\n",
       "  </thead>\n",
       "  <tbody>\n",
       "    <tr>\n",
       "      <th>61</th>\n",
       "      <td>62</td>\n",
       "      <td>1</td>\n",
       "      <td>1</td>\n",
       "      <td>Icard, Miss. Amelie</td>\n",
       "      <td>female</td>\n",
       "      <td>38.0</td>\n",
       "      <td>0</td>\n",
       "      <td>0</td>\n",
       "      <td>113572</td>\n",
       "      <td>80.0</td>\n",
       "      <td>B28</td>\n",
       "      <td>NaN</td>\n",
       "    </tr>\n",
       "    <tr>\n",
       "      <th>829</th>\n",
       "      <td>830</td>\n",
       "      <td>1</td>\n",
       "      <td>1</td>\n",
       "      <td>Stone, Mrs. George Nelson (Martha Evelyn)</td>\n",
       "      <td>female</td>\n",
       "      <td>62.0</td>\n",
       "      <td>0</td>\n",
       "      <td>0</td>\n",
       "      <td>113572</td>\n",
       "      <td>80.0</td>\n",
       "      <td>B28</td>\n",
       "      <td>NaN</td>\n",
       "    </tr>\n",
       "  </tbody>\n",
       "</table>\n",
       "</div>"
      ],
      "text/plain": [
       "     PassengerId  Survived  Pclass                                       Name  \\\n",
       "61            62         1       1                        Icard, Miss. Amelie   \n",
       "829          830         1       1  Stone, Mrs. George Nelson (Martha Evelyn)   \n",
       "\n",
       "        Sex   Age  SibSp  Parch  Ticket  Fare Cabin Embarked  \n",
       "61   female  38.0      0      0  113572  80.0   B28      NaN  \n",
       "829  female  62.0      0      0  113572  80.0   B28      NaN  "
      ]
     },
     "execution_count": 1048,
     "metadata": {},
     "output_type": "execute_result"
    }
   ],
   "source": [
    "train.loc[train.Embarked.isna()]"
   ]
  },
  {
   "cell_type": "markdown",
   "id": "f3851b4d-64ff-434a-b58f-97a564d67b96",
   "metadata": {},
   "source": [
    "<p> Both of them have the same Ticket number, that proves that they have embarked from the same city</p>\n",
    "<p> Mrs Stone boarded the Titanic in <i>Southampton</i> on 10 April 1912 and was travelling in first class with her maid Amelie Icard. She occupied cabin B-28. You can read about her \n",
    "    <a href='https://www.encyclopedia-titanica.org/titanic-survivor/martha-evelyn-stone.html'>here</a>"
   ]
  },
  {
   "cell_type": "code",
   "execution_count": 1049,
   "id": "a0e9c4f0-aeaf-45fc-9176-df6784c73582",
   "metadata": {},
   "outputs": [],
   "source": [
    "train.loc[train.Embarked.isna(),'Embarked'] = 'S'"
   ]
  },
  {
   "cell_type": "code",
   "execution_count": 1050,
   "id": "549dfb2e-cd31-4aef-9980-28b0040df1d7",
   "metadata": {},
   "outputs": [
    {
     "data": {
      "text/html": [
       "<div>\n",
       "<style scoped>\n",
       "    .dataframe tbody tr th:only-of-type {\n",
       "        vertical-align: middle;\n",
       "    }\n",
       "\n",
       "    .dataframe tbody tr th {\n",
       "        vertical-align: top;\n",
       "    }\n",
       "\n",
       "    .dataframe thead th {\n",
       "        text-align: right;\n",
       "    }\n",
       "</style>\n",
       "<table border=\"1\" class=\"dataframe\">\n",
       "  <thead>\n",
       "    <tr style=\"text-align: right;\">\n",
       "      <th></th>\n",
       "      <th>PassengerId</th>\n",
       "      <th>Survived</th>\n",
       "      <th>Pclass</th>\n",
       "      <th>Name</th>\n",
       "      <th>Sex</th>\n",
       "      <th>Age</th>\n",
       "      <th>SibSp</th>\n",
       "      <th>Parch</th>\n",
       "      <th>Ticket</th>\n",
       "      <th>Fare</th>\n",
       "      <th>Cabin</th>\n",
       "      <th>Embarked</th>\n",
       "    </tr>\n",
       "  </thead>\n",
       "  <tbody>\n",
       "    <tr>\n",
       "      <th>61</th>\n",
       "      <td>62</td>\n",
       "      <td>1</td>\n",
       "      <td>1</td>\n",
       "      <td>Icard, Miss. Amelie</td>\n",
       "      <td>female</td>\n",
       "      <td>38.0</td>\n",
       "      <td>0</td>\n",
       "      <td>0</td>\n",
       "      <td>113572</td>\n",
       "      <td>80.0</td>\n",
       "      <td>B28</td>\n",
       "      <td>S</td>\n",
       "    </tr>\n",
       "    <tr>\n",
       "      <th>829</th>\n",
       "      <td>830</td>\n",
       "      <td>1</td>\n",
       "      <td>1</td>\n",
       "      <td>Stone, Mrs. George Nelson (Martha Evelyn)</td>\n",
       "      <td>female</td>\n",
       "      <td>62.0</td>\n",
       "      <td>0</td>\n",
       "      <td>0</td>\n",
       "      <td>113572</td>\n",
       "      <td>80.0</td>\n",
       "      <td>B28</td>\n",
       "      <td>S</td>\n",
       "    </tr>\n",
       "  </tbody>\n",
       "</table>\n",
       "</div>"
      ],
      "text/plain": [
       "     PassengerId  Survived  Pclass                                       Name  \\\n",
       "61            62         1       1                        Icard, Miss. Amelie   \n",
       "829          830         1       1  Stone, Mrs. George Nelson (Martha Evelyn)   \n",
       "\n",
       "        Sex   Age  SibSp  Parch  Ticket  Fare Cabin Embarked  \n",
       "61   female  38.0      0      0  113572  80.0   B28        S  \n",
       "829  female  62.0      0      0  113572  80.0   B28        S  "
      ]
     },
     "execution_count": 1050,
     "metadata": {},
     "output_type": "execute_result"
    }
   ],
   "source": [
    "train.loc[train.Cabin == 'B28']"
   ]
  },
  {
   "cell_type": "markdown",
   "id": "ffa0eabd-24de-45ce-891a-3ed26da44d6a",
   "metadata": {},
   "source": [
    "<h3>Cabin Column</h3>\n",
    "<p> We will work on Cabin column which has 687 missing values out of 891 values<p>\n",
    "<p> Since there are a large number of missing values and no possible way to impute the values through feature engineering. Let's check if the <i>Cabin</i> column is <b>dependent column or independent column</b> with the <i>Survived</i> column. We will use <b>Chi-Squared Test</b> to check the statistical significance.</p>\n",
    "<p> There are two components to the Cabin column. It contain the alphabet which denotes the cabin section and the number denotes the position of the room</p>\n",
    "<p> We will make a new dataset which contain only those records which have non-null cabin values. Then we will extract the letters from the cabin column and make a new column Cabin Name</p>"
   ]
  },
  {
   "cell_type": "code",
   "execution_count": 1051,
   "id": "f8faa122-1ca4-4e2a-954f-f58257267530",
   "metadata": {},
   "outputs": [],
   "source": [
    "train_Cabin = train.loc[train.Cabin.notna()].copy()"
   ]
  },
  {
   "cell_type": "code",
   "execution_count": 1052,
   "id": "29f11f02-b8dc-4d13-bcd5-fa511374ba9c",
   "metadata": {},
   "outputs": [],
   "source": [
    "train_Cabin['cabinName'] = train_Cabin.Cabin.apply(lambda x: str(x)[0])"
   ]
  },
  {
   "cell_type": "code",
   "execution_count": 1053,
   "id": "3ddcdf1e-9436-49ec-abc7-40b2581f83b5",
   "metadata": {},
   "outputs": [
    {
     "data": {
      "text/html": [
       "<div>\n",
       "<style scoped>\n",
       "    .dataframe tbody tr th:only-of-type {\n",
       "        vertical-align: middle;\n",
       "    }\n",
       "\n",
       "    .dataframe tbody tr th {\n",
       "        vertical-align: top;\n",
       "    }\n",
       "\n",
       "    .dataframe thead th {\n",
       "        text-align: right;\n",
       "    }\n",
       "</style>\n",
       "<table border=\"1\" class=\"dataframe\">\n",
       "  <thead>\n",
       "    <tr style=\"text-align: right;\">\n",
       "      <th></th>\n",
       "      <th>PassengerId</th>\n",
       "      <th>Survived</th>\n",
       "      <th>Pclass</th>\n",
       "      <th>Name</th>\n",
       "      <th>Sex</th>\n",
       "      <th>Age</th>\n",
       "      <th>SibSp</th>\n",
       "      <th>Parch</th>\n",
       "      <th>Ticket</th>\n",
       "      <th>Fare</th>\n",
       "      <th>Cabin</th>\n",
       "      <th>Embarked</th>\n",
       "      <th>cabinName</th>\n",
       "    </tr>\n",
       "  </thead>\n",
       "  <tbody>\n",
       "    <tr>\n",
       "      <th>1</th>\n",
       "      <td>2</td>\n",
       "      <td>1</td>\n",
       "      <td>1</td>\n",
       "      <td>Cumings, Mrs. John Bradley (Florence Briggs Th...</td>\n",
       "      <td>female</td>\n",
       "      <td>38.0</td>\n",
       "      <td>1</td>\n",
       "      <td>0</td>\n",
       "      <td>PC 17599</td>\n",
       "      <td>71.2833</td>\n",
       "      <td>C85</td>\n",
       "      <td>C</td>\n",
       "      <td>C</td>\n",
       "    </tr>\n",
       "    <tr>\n",
       "      <th>3</th>\n",
       "      <td>4</td>\n",
       "      <td>1</td>\n",
       "      <td>1</td>\n",
       "      <td>Futrelle, Mrs. Jacques Heath (Lily May Peel)</td>\n",
       "      <td>female</td>\n",
       "      <td>35.0</td>\n",
       "      <td>1</td>\n",
       "      <td>0</td>\n",
       "      <td>113803</td>\n",
       "      <td>53.1000</td>\n",
       "      <td>C123</td>\n",
       "      <td>S</td>\n",
       "      <td>C</td>\n",
       "    </tr>\n",
       "    <tr>\n",
       "      <th>6</th>\n",
       "      <td>7</td>\n",
       "      <td>0</td>\n",
       "      <td>1</td>\n",
       "      <td>McCarthy, Mr. Timothy J</td>\n",
       "      <td>male</td>\n",
       "      <td>54.0</td>\n",
       "      <td>0</td>\n",
       "      <td>0</td>\n",
       "      <td>17463</td>\n",
       "      <td>51.8625</td>\n",
       "      <td>E46</td>\n",
       "      <td>S</td>\n",
       "      <td>E</td>\n",
       "    </tr>\n",
       "    <tr>\n",
       "      <th>10</th>\n",
       "      <td>11</td>\n",
       "      <td>1</td>\n",
       "      <td>3</td>\n",
       "      <td>Sandstrom, Miss. Marguerite Rut</td>\n",
       "      <td>female</td>\n",
       "      <td>4.0</td>\n",
       "      <td>1</td>\n",
       "      <td>1</td>\n",
       "      <td>PP 9549</td>\n",
       "      <td>16.7000</td>\n",
       "      <td>G6</td>\n",
       "      <td>S</td>\n",
       "      <td>G</td>\n",
       "    </tr>\n",
       "    <tr>\n",
       "      <th>11</th>\n",
       "      <td>12</td>\n",
       "      <td>1</td>\n",
       "      <td>1</td>\n",
       "      <td>Bonnell, Miss. Elizabeth</td>\n",
       "      <td>female</td>\n",
       "      <td>58.0</td>\n",
       "      <td>0</td>\n",
       "      <td>0</td>\n",
       "      <td>113783</td>\n",
       "      <td>26.5500</td>\n",
       "      <td>C103</td>\n",
       "      <td>S</td>\n",
       "      <td>C</td>\n",
       "    </tr>\n",
       "  </tbody>\n",
       "</table>\n",
       "</div>"
      ],
      "text/plain": [
       "    PassengerId  Survived  Pclass  \\\n",
       "1             2         1       1   \n",
       "3             4         1       1   \n",
       "6             7         0       1   \n",
       "10           11         1       3   \n",
       "11           12         1       1   \n",
       "\n",
       "                                                 Name     Sex   Age  SibSp  \\\n",
       "1   Cumings, Mrs. John Bradley (Florence Briggs Th...  female  38.0      1   \n",
       "3        Futrelle, Mrs. Jacques Heath (Lily May Peel)  female  35.0      1   \n",
       "6                             McCarthy, Mr. Timothy J    male  54.0      0   \n",
       "10                    Sandstrom, Miss. Marguerite Rut  female   4.0      1   \n",
       "11                           Bonnell, Miss. Elizabeth  female  58.0      0   \n",
       "\n",
       "    Parch    Ticket     Fare Cabin Embarked cabinName  \n",
       "1       0  PC 17599  71.2833   C85        C         C  \n",
       "3       0    113803  53.1000  C123        S         C  \n",
       "6       0     17463  51.8625   E46        S         E  \n",
       "10      1   PP 9549  16.7000    G6        S         G  \n",
       "11      0    113783  26.5500  C103        S         C  "
      ]
     },
     "execution_count": 1053,
     "metadata": {},
     "output_type": "execute_result"
    }
   ],
   "source": [
    "train_Cabin.head()"
   ]
  },
  {
   "cell_type": "code",
   "execution_count": 1054,
   "id": "85433e21-db30-47b9-9cec-9872195d7fa6",
   "metadata": {},
   "outputs": [],
   "source": [
    "stat, p, dof, expected = chi2_contingency(pd.crosstab(train_Cabin['Survived'],train_Cabin['cabinName']))"
   ]
  },
  {
   "cell_type": "markdown",
   "id": "ecfac7b9-7fcc-4133-8822-058d0fd5467d",
   "metadata": {},
   "source": [
    "Let's set our alpha to 0.05, to check the statistical significance"
   ]
  },
  {
   "cell_type": "code",
   "execution_count": 1055,
   "id": "4939113a-7d7c-478b-8cd1-68937c1698a7",
   "metadata": {},
   "outputs": [
    {
     "name": "stdout",
     "output_type": "stream",
     "text": [
      "p =  0.1721713412821439\n",
      "Independent (fail to reject H0)\n"
     ]
    }
   ],
   "source": [
    "alpha = 0.05\n",
    "if(p<alpha):\n",
    "    print('p = ',p)\n",
    "    print('Dependent (reject H0)')\n",
    "else:\n",
    "    print('p = ',p)\n",
    "    print('Independent (fail to reject H0)')"
   ]
  },
  {
   "cell_type": "markdown",
   "id": "6431e3ca-8e03-4e27-a0a1-6cb70cf42083",
   "metadata": {},
   "source": [
    "<p> Moreover we can proved that Cabin column and Pclass column are correlated. Since, the Cabin's in the titanic were given according to the Pclass. </p>"
   ]
  },
  {
   "cell_type": "code",
   "execution_count": 1056,
   "id": "eabe7b1b-c257-4b49-a522-7bd4f1a1c2de",
   "metadata": {},
   "outputs": [],
   "source": [
    "stat, p, dof, expected = chi2_contingency(pd.crosstab(train_Cabin['Pclass'],train_Cabin['cabinName']))"
   ]
  },
  {
   "cell_type": "markdown",
   "id": "10874f6b-83be-4d7f-8432-516b117e59ae",
   "metadata": {},
   "source": [
    "Setting alpha to 0.05"
   ]
  },
  {
   "cell_type": "code",
   "execution_count": 1057,
   "id": "9bb14b89-a1ff-4c4c-bc86-a7707d6ea9ef",
   "metadata": {},
   "outputs": [
    {
     "name": "stdout",
     "output_type": "stream",
     "text": [
      "p =  5.720886022010114e-29\n",
      "Dependent (reject H0)\n"
     ]
    }
   ],
   "source": [
    "alpha = 0.05\n",
    "if(p<alpha):\n",
    "    print('p = ',p)\n",
    "    print('Dependent (reject H0)')\n",
    "else:\n",
    "    print('p = ',p)\n",
    "    print('Independent (fail to reject H0)')"
   ]
  },
  {
   "cell_type": "markdown",
   "id": "efe077dc-a4cf-457a-9534-d8429e62d55d",
   "metadata": {},
   "source": [
    "<p> One possible way to impute the missing values in Cabin column would be by assignment according to the Pclass, but that would lead to high correlation between Pclass and \n",
    "    Cabin column. Hence it is safe to say that cabin column has no statistical significance.</p>"
   ]
  },
  {
   "cell_type": "markdown",
   "id": "c5797ef2-81d5-4008-a4b4-10fac54cfcd3",
   "metadata": {},
   "source": [
    "<p> We will be dropping the Cabin column</p>"
   ]
  },
  {
   "cell_type": "code",
   "execution_count": 1058,
   "id": "adc94d6a-21ca-4e19-9ba5-7b6c15975364",
   "metadata": {},
   "outputs": [],
   "source": [
    "train.drop(columns='Cabin', inplace = True)\n",
    "test.drop(columns='Cabin', inplace = True)"
   ]
  },
  {
   "cell_type": "markdown",
   "id": "7e106547-84ef-4d5f-8191-3e104469f672",
   "metadata": {},
   "source": [
    "<h3>Age Column</h3>\n",
    "<p> Now we will work on Age column which has 177 missing values out of 891 values in the train dataset</p>\n",
    "<p> One possible way to impute the age column according to impute the mean of age for each age groups and profession and Pclass</p>\n",
    "<p> To segregate the data according to age groups and profession we will the need the title given to the passengers.</p>\n",
    "<p> This information is available in the Name column where each passenger has a title after their surname</p>\n",
    "<p> The steps would to make a new column Title and impute the missing values based on Title column and Pclass</p>"
   ]
  },
  {
   "cell_type": "markdown",
   "id": "b7b22d67-3b26-442e-8f27-6370c362c3d7",
   "metadata": {},
   "source": [
    "<h4> Creating Title column </h4>"
   ]
  },
  {
   "cell_type": "code",
   "execution_count": 1059,
   "id": "873d7107-9bd2-46ad-aa6d-e60e40472c56",
   "metadata": {},
   "outputs": [
    {
     "data": {
      "text/html": [
       "<div>\n",
       "<style scoped>\n",
       "    .dataframe tbody tr th:only-of-type {\n",
       "        vertical-align: middle;\n",
       "    }\n",
       "\n",
       "    .dataframe tbody tr th {\n",
       "        vertical-align: top;\n",
       "    }\n",
       "\n",
       "    .dataframe thead th {\n",
       "        text-align: right;\n",
       "    }\n",
       "</style>\n",
       "<table border=\"1\" class=\"dataframe\">\n",
       "  <thead>\n",
       "    <tr style=\"text-align: right;\">\n",
       "      <th></th>\n",
       "      <th>PassengerId</th>\n",
       "      <th>Survived</th>\n",
       "      <th>Pclass</th>\n",
       "      <th>Name</th>\n",
       "      <th>Sex</th>\n",
       "      <th>Age</th>\n",
       "      <th>SibSp</th>\n",
       "      <th>Parch</th>\n",
       "      <th>Ticket</th>\n",
       "      <th>Fare</th>\n",
       "      <th>Embarked</th>\n",
       "    </tr>\n",
       "  </thead>\n",
       "  <tbody>\n",
       "    <tr>\n",
       "      <th>0</th>\n",
       "      <td>1</td>\n",
       "      <td>0</td>\n",
       "      <td>3</td>\n",
       "      <td>Braund, Mr. Owen Harris</td>\n",
       "      <td>male</td>\n",
       "      <td>22.0</td>\n",
       "      <td>1</td>\n",
       "      <td>0</td>\n",
       "      <td>A/5 21171</td>\n",
       "      <td>7.2500</td>\n",
       "      <td>S</td>\n",
       "    </tr>\n",
       "    <tr>\n",
       "      <th>1</th>\n",
       "      <td>2</td>\n",
       "      <td>1</td>\n",
       "      <td>1</td>\n",
       "      <td>Cumings, Mrs. John Bradley (Florence Briggs Th...</td>\n",
       "      <td>female</td>\n",
       "      <td>38.0</td>\n",
       "      <td>1</td>\n",
       "      <td>0</td>\n",
       "      <td>PC 17599</td>\n",
       "      <td>71.2833</td>\n",
       "      <td>C</td>\n",
       "    </tr>\n",
       "    <tr>\n",
       "      <th>2</th>\n",
       "      <td>3</td>\n",
       "      <td>1</td>\n",
       "      <td>3</td>\n",
       "      <td>Heikkinen, Miss. Laina</td>\n",
       "      <td>female</td>\n",
       "      <td>26.0</td>\n",
       "      <td>0</td>\n",
       "      <td>0</td>\n",
       "      <td>STON/O2. 3101282</td>\n",
       "      <td>7.9250</td>\n",
       "      <td>S</td>\n",
       "    </tr>\n",
       "    <tr>\n",
       "      <th>3</th>\n",
       "      <td>4</td>\n",
       "      <td>1</td>\n",
       "      <td>1</td>\n",
       "      <td>Futrelle, Mrs. Jacques Heath (Lily May Peel)</td>\n",
       "      <td>female</td>\n",
       "      <td>35.0</td>\n",
       "      <td>1</td>\n",
       "      <td>0</td>\n",
       "      <td>113803</td>\n",
       "      <td>53.1000</td>\n",
       "      <td>S</td>\n",
       "    </tr>\n",
       "    <tr>\n",
       "      <th>4</th>\n",
       "      <td>5</td>\n",
       "      <td>0</td>\n",
       "      <td>3</td>\n",
       "      <td>Allen, Mr. William Henry</td>\n",
       "      <td>male</td>\n",
       "      <td>35.0</td>\n",
       "      <td>0</td>\n",
       "      <td>0</td>\n",
       "      <td>373450</td>\n",
       "      <td>8.0500</td>\n",
       "      <td>S</td>\n",
       "    </tr>\n",
       "  </tbody>\n",
       "</table>\n",
       "</div>"
      ],
      "text/plain": [
       "   PassengerId  Survived  Pclass  \\\n",
       "0            1         0       3   \n",
       "1            2         1       1   \n",
       "2            3         1       3   \n",
       "3            4         1       1   \n",
       "4            5         0       3   \n",
       "\n",
       "                                                Name     Sex   Age  SibSp  \\\n",
       "0                            Braund, Mr. Owen Harris    male  22.0      1   \n",
       "1  Cumings, Mrs. John Bradley (Florence Briggs Th...  female  38.0      1   \n",
       "2                             Heikkinen, Miss. Laina  female  26.0      0   \n",
       "3       Futrelle, Mrs. Jacques Heath (Lily May Peel)  female  35.0      1   \n",
       "4                           Allen, Mr. William Henry    male  35.0      0   \n",
       "\n",
       "   Parch            Ticket     Fare Embarked  \n",
       "0      0         A/5 21171   7.2500        S  \n",
       "1      0          PC 17599  71.2833        C  \n",
       "2      0  STON/O2. 3101282   7.9250        S  \n",
       "3      0            113803  53.1000        S  \n",
       "4      0            373450   8.0500        S  "
      ]
     },
     "execution_count": 1059,
     "metadata": {},
     "output_type": "execute_result"
    }
   ],
   "source": [
    "train.head()"
   ]
  },
  {
   "cell_type": "code",
   "execution_count": 1060,
   "id": "ef513552-0494-45af-b1db-5b169327274b",
   "metadata": {},
   "outputs": [],
   "source": [
    "train['Titles'] = train.Name.apply(lambda x: x.split(', ')[1].split('. ')[0])"
   ]
  },
  {
   "cell_type": "code",
   "execution_count": 1061,
   "id": "ac10cdef-a59e-45a5-afea-f37c62bcf9b8",
   "metadata": {},
   "outputs": [
    {
     "data": {
      "text/plain": [
       "Mr              517\n",
       "Miss            182\n",
       "Mrs             125\n",
       "Master           40\n",
       "Dr                7\n",
       "Rev               6\n",
       "Major             2\n",
       "Col               2\n",
       "Mlle              2\n",
       "Ms                1\n",
       "Jonkheer          1\n",
       "Capt              1\n",
       "Lady              1\n",
       "Mme               1\n",
       "Sir               1\n",
       "the Countess      1\n",
       "Don               1\n",
       "Name: Titles, dtype: int64"
      ]
     },
     "execution_count": 1061,
     "metadata": {},
     "output_type": "execute_result"
    }
   ],
   "source": [
    "train.Titles.value_counts()"
   ]
  },
  {
   "cell_type": "code",
   "execution_count": 1062,
   "id": "3d08b510-6784-425c-bd4b-06b95adf3084",
   "metadata": {},
   "outputs": [],
   "source": [
    "test['Titles'] = test.Name.apply(lambda x: x.split(', ')[1].split('. ')[0])"
   ]
  },
  {
   "cell_type": "code",
   "execution_count": 1063,
   "id": "2cc72a3d-42c5-43c5-af29-98e2dd176492",
   "metadata": {},
   "outputs": [
    {
     "data": {
      "text/plain": [
       "Mr        240\n",
       "Miss       78\n",
       "Mrs        72\n",
       "Master     21\n",
       "Rev         2\n",
       "Col         2\n",
       "Dona        1\n",
       "Ms          1\n",
       "Dr          1\n",
       "Name: Titles, dtype: int64"
      ]
     },
     "execution_count": 1063,
     "metadata": {},
     "output_type": "execute_result"
    }
   ],
   "source": [
    "test.Titles.value_counts()"
   ]
  },
  {
   "cell_type": "markdown",
   "id": "3b5de82c-8fbc-4135-8056-2580fe643d19",
   "metadata": {},
   "source": [
    "<p> We can see that there is a range of titles, our next step would be to bin these tiles into <b>Mr,Mrs,Miss,Master,Royalty and Officer</b></p>\n"
   ]
  },
  {
   "cell_type": "code",
   "execution_count": 1064,
   "id": "50deab88-884b-452b-9af4-705654dd2af4",
   "metadata": {},
   "outputs": [],
   "source": [
    "new_titles = {\n",
    "    'Mr':'Mr',\n",
    "    'Miss':'Miss',\n",
    "    'Mrs':'Mrs',\n",
    "    'Master':'Master',\n",
    "    'Dr':'Officer',\n",
    "    'Dona':'Royalty',\n",
    "    'Rev':'Officer',\n",
    "    'Mlle':'Miss',\n",
    "    'Major':'Officer',\n",
    "    'Col':'Officer',\n",
    "    'Sir':'Royalty',\n",
    "    'Don':'Royalty',\n",
    "    'Capt':'Officer',\n",
    "    'the Countess':'Royalty',\n",
    "    'Jonkheer':'Officer',\n",
    "    'Mme':'Mrs',\n",
    "    'Lady':'Royalty',\n",
    "    'Ms':'Miss'\n",
    "}"
   ]
  },
  {
   "cell_type": "code",
   "execution_count": 1065,
   "id": "b8ce14e4-0191-4183-8d92-11da5b2caa1d",
   "metadata": {},
   "outputs": [],
   "source": [
    "train['Titles'] = train.Titles.map(new_titles)\n",
    "test['Titles'] = test.Titles.map(new_titles)"
   ]
  },
  {
   "cell_type": "code",
   "execution_count": 1066,
   "id": "a7e8859f-b53e-413b-bf0d-5eb6f8fbabf3",
   "metadata": {},
   "outputs": [
    {
     "data": {
      "text/plain": [
       "Mr         517\n",
       "Miss       185\n",
       "Mrs        126\n",
       "Master      40\n",
       "Officer     19\n",
       "Royalty      4\n",
       "Name: Titles, dtype: int64"
      ]
     },
     "execution_count": 1066,
     "metadata": {},
     "output_type": "execute_result"
    }
   ],
   "source": [
    "train.Titles.value_counts()"
   ]
  },
  {
   "cell_type": "code",
   "execution_count": 1067,
   "id": "1326adb6-0e87-47a6-9160-7bcc835cf630",
   "metadata": {},
   "outputs": [
    {
     "data": {
      "text/plain": [
       "Mr         240\n",
       "Miss        79\n",
       "Mrs         72\n",
       "Master      21\n",
       "Officer      5\n",
       "Royalty      1\n",
       "Name: Titles, dtype: int64"
      ]
     },
     "execution_count": 1067,
     "metadata": {},
     "output_type": "execute_result"
    }
   ],
   "source": [
    "test.Titles.value_counts()"
   ]
  },
  {
   "cell_type": "markdown",
   "id": "e77dcb78-e3fc-4a31-9971-634a8913be69",
   "metadata": {},
   "source": [
    "<p> Let's use a groupby function to impute missing values in the Age column </p>"
   ]
  },
  {
   "cell_type": "code",
   "execution_count": 1068,
   "id": "dab733e1-dd5e-4374-9077-9e96a4632d4d",
   "metadata": {},
   "outputs": [],
   "source": [
    "train['Age'] = train.groupby(['Titles','Pclass'])['Age'].transform(lambda grp: grp.fillna(np.mean(grp)))"
   ]
  },
  {
   "cell_type": "code",
   "execution_count": 1069,
   "id": "8ef3e8ce-6f85-4408-8123-2a4501697a1b",
   "metadata": {},
   "outputs": [
    {
     "data": {
      "text/plain": [
       "0"
      ]
     },
     "execution_count": 1069,
     "metadata": {},
     "output_type": "execute_result"
    }
   ],
   "source": [
    "train['Age'].isna().sum()"
   ]
  },
  {
   "cell_type": "code",
   "execution_count": 1070,
   "id": "3288637b-4f79-4109-bf01-ad3649084f1c",
   "metadata": {},
   "outputs": [],
   "source": [
    "test['Age'] = test.groupby(['Titles','Pclass'])['Age'].transform(lambda grp: grp.fillna(np.mean(grp)))"
   ]
  },
  {
   "cell_type": "code",
   "execution_count": 1071,
   "id": "51c2e6bd-dad4-4f24-8d38-a2bfd4d56ec3",
   "metadata": {},
   "outputs": [
    {
     "data": {
      "text/plain": [
       "0"
      ]
     },
     "execution_count": 1071,
     "metadata": {},
     "output_type": "execute_result"
    }
   ],
   "source": [
    "test['Age'].isna().sum()"
   ]
  },
  {
   "cell_type": "markdown",
   "id": "3d8e763e-1950-46d5-bfb0-5ea7929de7d3",
   "metadata": {},
   "source": [
    "<h4> Test Dataset </h4>"
   ]
  },
  {
   "cell_type": "code",
   "execution_count": 1072,
   "id": "59e07a50-7d52-48c0-b400-3c736abcce89",
   "metadata": {},
   "outputs": [
    {
     "data": {
      "text/plain": [
       "PassengerId    0\n",
       "Pclass         0\n",
       "Name           0\n",
       "Sex            0\n",
       "Age            0\n",
       "SibSp          0\n",
       "Parch          0\n",
       "Ticket         0\n",
       "Fare           1\n",
       "Embarked       0\n",
       "Titles         0\n",
       "dtype: int64"
      ]
     },
     "execution_count": 1072,
     "metadata": {},
     "output_type": "execute_result"
    }
   ],
   "source": [
    "test.isna().sum()"
   ]
  },
  {
   "cell_type": "markdown",
   "id": "5cb4bb74-9eeb-4459-89ee-a8f9fc1b3de0",
   "metadata": {},
   "source": [
    "<p> The only missing value in test dataset is in Fare column. Let's check the entry</p>"
   ]
  },
  {
   "cell_type": "code",
   "execution_count": 1073,
   "id": "43b12572-da16-467d-9e13-5632c7a273cc",
   "metadata": {},
   "outputs": [
    {
     "data": {
      "text/html": [
       "<div>\n",
       "<style scoped>\n",
       "    .dataframe tbody tr th:only-of-type {\n",
       "        vertical-align: middle;\n",
       "    }\n",
       "\n",
       "    .dataframe tbody tr th {\n",
       "        vertical-align: top;\n",
       "    }\n",
       "\n",
       "    .dataframe thead th {\n",
       "        text-align: right;\n",
       "    }\n",
       "</style>\n",
       "<table border=\"1\" class=\"dataframe\">\n",
       "  <thead>\n",
       "    <tr style=\"text-align: right;\">\n",
       "      <th></th>\n",
       "      <th>PassengerId</th>\n",
       "      <th>Pclass</th>\n",
       "      <th>Name</th>\n",
       "      <th>Sex</th>\n",
       "      <th>Age</th>\n",
       "      <th>SibSp</th>\n",
       "      <th>Parch</th>\n",
       "      <th>Ticket</th>\n",
       "      <th>Fare</th>\n",
       "      <th>Embarked</th>\n",
       "      <th>Titles</th>\n",
       "    </tr>\n",
       "  </thead>\n",
       "  <tbody>\n",
       "    <tr>\n",
       "      <th>152</th>\n",
       "      <td>1044</td>\n",
       "      <td>3</td>\n",
       "      <td>Storey, Mr. Thomas</td>\n",
       "      <td>male</td>\n",
       "      <td>60.5</td>\n",
       "      <td>0</td>\n",
       "      <td>0</td>\n",
       "      <td>3701</td>\n",
       "      <td>NaN</td>\n",
       "      <td>S</td>\n",
       "      <td>Mr</td>\n",
       "    </tr>\n",
       "  </tbody>\n",
       "</table>\n",
       "</div>"
      ],
      "text/plain": [
       "     PassengerId  Pclass                Name   Sex   Age  SibSp  Parch Ticket  \\\n",
       "152         1044       3  Storey, Mr. Thomas  male  60.5      0      0   3701   \n",
       "\n",
       "     Fare Embarked Titles  \n",
       "152   NaN        S     Mr  "
      ]
     },
     "execution_count": 1073,
     "metadata": {},
     "output_type": "execute_result"
    }
   ],
   "source": [
    "test.loc[test.Fare.isna()]"
   ]
  },
  {
   "cell_type": "markdown",
   "id": "dfdc2343-9bd1-4d88-aa47-e35dab87885e",
   "metadata": {},
   "source": [
    "<p> We can impute the Fare value according to the mean of Pclass </p> "
   ]
  },
  {
   "cell_type": "code",
   "execution_count": 1074,
   "id": "77f184cf-77bc-47ef-86cf-3fb348d885f8",
   "metadata": {},
   "outputs": [],
   "source": [
    "test['Fare'] = test.groupby(['Pclass'])['Fare'].transform(lambda grp: grp.fillna(np.mean(grp)))"
   ]
  },
  {
   "cell_type": "code",
   "execution_count": 1075,
   "id": "43fa9f87-a315-481a-a071-c30d34c5efd8",
   "metadata": {},
   "outputs": [
    {
     "data": {
      "text/plain": [
       "PassengerId    0\n",
       "Pclass         0\n",
       "Name           0\n",
       "Sex            0\n",
       "Age            0\n",
       "SibSp          0\n",
       "Parch          0\n",
       "Ticket         0\n",
       "Fare           0\n",
       "Embarked       0\n",
       "Titles         0\n",
       "dtype: int64"
      ]
     },
     "execution_count": 1075,
     "metadata": {},
     "output_type": "execute_result"
    }
   ],
   "source": [
    "test.isna().sum()"
   ]
  },
  {
   "cell_type": "code",
   "execution_count": 1076,
   "id": "81065c26-f71d-408b-a483-dc81af0bc707",
   "metadata": {},
   "outputs": [
    {
     "data": {
      "text/plain": [
       "PassengerId    0\n",
       "Survived       0\n",
       "Pclass         0\n",
       "Name           0\n",
       "Sex            0\n",
       "Age            0\n",
       "SibSp          0\n",
       "Parch          0\n",
       "Ticket         0\n",
       "Fare           0\n",
       "Embarked       0\n",
       "Titles         0\n",
       "dtype: int64"
      ]
     },
     "execution_count": 1076,
     "metadata": {},
     "output_type": "execute_result"
    }
   ],
   "source": [
    "train.isna().sum()"
   ]
  },
  {
   "cell_type": "markdown",
   "id": "fc909430-79ce-47b3-8c9e-b73598ba9272",
   "metadata": {},
   "source": [
    "<p> All the missing values have been dealt with and also some of the columns which had a lot of missing values and did not show any statistical significance have been removed </p>"
   ]
  },
  {
   "cell_type": "markdown",
   "id": "0ad2dad7-b18e-4969-9b49-2ee9cb4f24b7",
   "metadata": {},
   "source": [
    "<h3> Dealing with Ticket column </h3>\n",
    "<p> Ticket column has ticket numbers and the only possible information that we can get from it is the people who has the same ticket number may have had high chance of survival together. It can be shown that the first two digits of Ticket number are related to Pclass. Before moving ahead we need to check the correlation of the column we are going to create with other columns(Pclass).</p>"
   ]
  },
  {
   "cell_type": "code",
   "execution_count": 1077,
   "id": "61063c36-2f10-44cf-a6cc-826eef8bc691",
   "metadata": {},
   "outputs": [
    {
     "data": {
      "text/html": [
       "<div>\n",
       "<style scoped>\n",
       "    .dataframe tbody tr th:only-of-type {\n",
       "        vertical-align: middle;\n",
       "    }\n",
       "\n",
       "    .dataframe tbody tr th {\n",
       "        vertical-align: top;\n",
       "    }\n",
       "\n",
       "    .dataframe thead th {\n",
       "        text-align: right;\n",
       "    }\n",
       "</style>\n",
       "<table border=\"1\" class=\"dataframe\">\n",
       "  <thead>\n",
       "    <tr style=\"text-align: right;\">\n",
       "      <th></th>\n",
       "      <th>PassengerId</th>\n",
       "      <th>Survived</th>\n",
       "      <th>Pclass</th>\n",
       "      <th>Name</th>\n",
       "      <th>Sex</th>\n",
       "      <th>Age</th>\n",
       "      <th>SibSp</th>\n",
       "      <th>Parch</th>\n",
       "      <th>Ticket</th>\n",
       "      <th>Fare</th>\n",
       "      <th>Embarked</th>\n",
       "      <th>Titles</th>\n",
       "    </tr>\n",
       "  </thead>\n",
       "  <tbody>\n",
       "    <tr>\n",
       "      <th>0</th>\n",
       "      <td>1</td>\n",
       "      <td>0</td>\n",
       "      <td>3</td>\n",
       "      <td>Braund, Mr. Owen Harris</td>\n",
       "      <td>male</td>\n",
       "      <td>22.0</td>\n",
       "      <td>1</td>\n",
       "      <td>0</td>\n",
       "      <td>A/5 21171</td>\n",
       "      <td>7.2500</td>\n",
       "      <td>S</td>\n",
       "      <td>Mr</td>\n",
       "    </tr>\n",
       "    <tr>\n",
       "      <th>1</th>\n",
       "      <td>2</td>\n",
       "      <td>1</td>\n",
       "      <td>1</td>\n",
       "      <td>Cumings, Mrs. John Bradley (Florence Briggs Th...</td>\n",
       "      <td>female</td>\n",
       "      <td>38.0</td>\n",
       "      <td>1</td>\n",
       "      <td>0</td>\n",
       "      <td>PC 17599</td>\n",
       "      <td>71.2833</td>\n",
       "      <td>C</td>\n",
       "      <td>Mrs</td>\n",
       "    </tr>\n",
       "    <tr>\n",
       "      <th>2</th>\n",
       "      <td>3</td>\n",
       "      <td>1</td>\n",
       "      <td>3</td>\n",
       "      <td>Heikkinen, Miss. Laina</td>\n",
       "      <td>female</td>\n",
       "      <td>26.0</td>\n",
       "      <td>0</td>\n",
       "      <td>0</td>\n",
       "      <td>STON/O2. 3101282</td>\n",
       "      <td>7.9250</td>\n",
       "      <td>S</td>\n",
       "      <td>Miss</td>\n",
       "    </tr>\n",
       "    <tr>\n",
       "      <th>3</th>\n",
       "      <td>4</td>\n",
       "      <td>1</td>\n",
       "      <td>1</td>\n",
       "      <td>Futrelle, Mrs. Jacques Heath (Lily May Peel)</td>\n",
       "      <td>female</td>\n",
       "      <td>35.0</td>\n",
       "      <td>1</td>\n",
       "      <td>0</td>\n",
       "      <td>113803</td>\n",
       "      <td>53.1000</td>\n",
       "      <td>S</td>\n",
       "      <td>Mrs</td>\n",
       "    </tr>\n",
       "    <tr>\n",
       "      <th>4</th>\n",
       "      <td>5</td>\n",
       "      <td>0</td>\n",
       "      <td>3</td>\n",
       "      <td>Allen, Mr. William Henry</td>\n",
       "      <td>male</td>\n",
       "      <td>35.0</td>\n",
       "      <td>0</td>\n",
       "      <td>0</td>\n",
       "      <td>373450</td>\n",
       "      <td>8.0500</td>\n",
       "      <td>S</td>\n",
       "      <td>Mr</td>\n",
       "    </tr>\n",
       "  </tbody>\n",
       "</table>\n",
       "</div>"
      ],
      "text/plain": [
       "   PassengerId  Survived  Pclass  \\\n",
       "0            1         0       3   \n",
       "1            2         1       1   \n",
       "2            3         1       3   \n",
       "3            4         1       1   \n",
       "4            5         0       3   \n",
       "\n",
       "                                                Name     Sex   Age  SibSp  \\\n",
       "0                            Braund, Mr. Owen Harris    male  22.0      1   \n",
       "1  Cumings, Mrs. John Bradley (Florence Briggs Th...  female  38.0      1   \n",
       "2                             Heikkinen, Miss. Laina  female  26.0      0   \n",
       "3       Futrelle, Mrs. Jacques Heath (Lily May Peel)  female  35.0      1   \n",
       "4                           Allen, Mr. William Henry    male  35.0      0   \n",
       "\n",
       "   Parch            Ticket     Fare Embarked Titles  \n",
       "0      0         A/5 21171   7.2500        S     Mr  \n",
       "1      0          PC 17599  71.2833        C    Mrs  \n",
       "2      0  STON/O2. 3101282   7.9250        S   Miss  \n",
       "3      0            113803  53.1000        S    Mrs  \n",
       "4      0            373450   8.0500        S     Mr  "
      ]
     },
     "execution_count": 1077,
     "metadata": {},
     "output_type": "execute_result"
    }
   ],
   "source": [
    "train.head()"
   ]
  },
  {
   "cell_type": "code",
   "execution_count": 1078,
   "id": "802a6ece-1a86-4c1b-ab3c-794042973272",
   "metadata": {},
   "outputs": [],
   "source": [
    "similarTicket = train.Ticket.value_counts()"
   ]
  },
  {
   "cell_type": "markdown",
   "id": "876b18fe-0faf-4613-be19-e4be1b51a52a",
   "metadata": {},
   "source": [
    "<p> If more than one person has the same ticket we will assign 1 to ticketMate column of the passenger or else 0</p>"
   ]
  },
  {
   "cell_type": "code",
   "execution_count": 1079,
   "id": "b86fc06d-9041-437e-aa70-4cc14d1cf90f",
   "metadata": {},
   "outputs": [],
   "source": [
    "train['ticketMate'] = train.Ticket.apply(lambda x: 1 if similarTicket[x] > 1 else 0)"
   ]
  },
  {
   "cell_type": "markdown",
   "id": "6fbb527c-d76e-408f-90fd-1cd4e01419b6",
   "metadata": {},
   "source": [
    "<p> Now let's check the statistical significance of the new column with Survived column and Pclass column</p>"
   ]
  },
  {
   "cell_type": "markdown",
   "id": "f194e8a2-fec7-4b0a-96d2-b7c86281214b",
   "metadata": {},
   "source": [
    "<h4> Dependence on Survived column</h4>"
   ]
  },
  {
   "cell_type": "code",
   "execution_count": 1080,
   "id": "da24df50-8f88-4b31-81ca-bb2ed40394ee",
   "metadata": {},
   "outputs": [
    {
     "name": "stdout",
     "output_type": "stream",
     "text": [
      "p =  4.903020473214121e-11\n",
      "Dependent (reject H0)\n"
     ]
    }
   ],
   "source": [
    "stat, p, dof, expected = chi2_contingency(pd.crosstab(train['Survived'],train['ticketMate']))\n",
    "alpha = 0.05\n",
    "if(p<alpha):\n",
    "    print('p = ',p)\n",
    "    print('Dependent (reject H0)')\n",
    "else:\n",
    "    print('p = ',p)\n",
    "    print('Independent (fail to reject H0)')"
   ]
  },
  {
   "cell_type": "markdown",
   "id": "490c4709-d54a-4348-bb4b-71ba5e9a0c49",
   "metadata": {},
   "source": [
    "<h4> Dependence on Pclass column </h4>"
   ]
  },
  {
   "cell_type": "code",
   "execution_count": 1081,
   "id": "06760d8f-6c5f-40df-ac4b-541122de2289",
   "metadata": {},
   "outputs": [
    {
     "name": "stdout",
     "output_type": "stream",
     "text": [
      "p =  1.6673153896807204e-09\n",
      "Dependent (reject H0)\n"
     ]
    }
   ],
   "source": [
    "stat, p, dof, expected = chi2_contingency(pd.crosstab(train['Pclass'],train['ticketMate']))\n",
    "alpha = 0.05\n",
    "if(p<alpha):\n",
    "    print('p = ',p)\n",
    "    print('Dependent (reject H0)')\n",
    "else:\n",
    "    print('p = ',p)\n",
    "    print('Independent (fail to reject H0)')"
   ]
  },
  {
   "cell_type": "markdown",
   "id": "c06e740f-5563-49b9-9321-d1084ddd7084",
   "metadata": {},
   "source": [
    "<p> It can be seen that although Ticket mate column is statistically significant, it is highly correlated to the Pclass colomn. Hence we will not use it </p>"
   ]
  },
  {
   "cell_type": "code",
   "execution_count": 1082,
   "id": "353e3697-00ea-4ade-ab0f-41bcc132ffe6",
   "metadata": {},
   "outputs": [],
   "source": [
    "train.drop(columns=['Ticket','ticketMate'], inplace = True)"
   ]
  },
  {
   "cell_type": "code",
   "execution_count": 1083,
   "id": "d413f2c5-3d17-465d-8e3a-7b4db4a325ac",
   "metadata": {},
   "outputs": [],
   "source": [
    "test.drop(columns=['Ticket'], inplace = True)"
   ]
  },
  {
   "cell_type": "markdown",
   "id": "6369e614-8bfc-4fe2-9136-f5830baa58d5",
   "metadata": {},
   "source": [
    "<h1> Data Visualization </h1>"
   ]
  },
  {
   "cell_type": "markdown",
   "id": "7ce61703-59b7-4746-b95b-0d8770acf68c",
   "metadata": {},
   "source": [
    "<p> We will do the data visualization of Categorical and Numerical columns separately</p>\n",
    "<p> So lets make the list of the name of numerical columns and categorical columns</p>"
   ]
  },
  {
   "cell_type": "code",
   "execution_count": 1084,
   "id": "c8b9244a-d725-4fbc-b485-aba6e1836fdf",
   "metadata": {},
   "outputs": [],
   "source": [
    "num_cols = train.describe().columns"
   ]
  },
  {
   "cell_type": "code",
   "execution_count": 1085,
   "id": "633fa790-1a92-400a-815b-33407f0e332c",
   "metadata": {},
   "outputs": [],
   "source": [
    "cat_cols = train.columns.drop(num_cols)"
   ]
  },
  {
   "cell_type": "code",
   "execution_count": 1086,
   "id": "d298fb51-c411-446e-8943-45cbe4a461c8",
   "metadata": {},
   "outputs": [
    {
     "data": {
      "text/plain": [
       "Index(['PassengerId', 'Survived', 'Pclass', 'Age', 'SibSp', 'Parch', 'Fare'], dtype='object')"
      ]
     },
     "execution_count": 1086,
     "metadata": {},
     "output_type": "execute_result"
    }
   ],
   "source": [
    "num_cols"
   ]
  },
  {
   "cell_type": "code",
   "execution_count": 1087,
   "id": "f73631fc-2f1c-4b10-bf07-dd27fea5d1d8",
   "metadata": {},
   "outputs": [
    {
     "data": {
      "text/plain": [
       "Index(['Name', 'Sex', 'Embarked', 'Titles'], dtype='object')"
      ]
     },
     "execution_count": 1087,
     "metadata": {},
     "output_type": "execute_result"
    }
   ],
   "source": [
    "cat_cols"
   ]
  },
  {
   "cell_type": "code",
   "execution_count": 1088,
   "id": "b11fc7f3-f77d-49d0-9e2b-37c350867156",
   "metadata": {},
   "outputs": [],
   "source": [
    "num_cols = num_cols.drop(['PassengerId','Survived'])"
   ]
  },
  {
   "cell_type": "markdown",
   "id": "731fe171-22a8-4c27-bedf-70567859e2b9",
   "metadata": {},
   "source": [
    "<h2> Histograms of Numerical Columns </h2>"
   ]
  },
  {
   "cell_type": "code",
   "execution_count": 1089,
   "id": "3a820cc6-5b34-4b65-83ff-ddf77d3edc02",
   "metadata": {},
   "outputs": [
    {
     "data": {
      "image/png": "[encoded data removed]",
      "text/plain": [
       "<Figure size 432x288 with 1 Axes>"
      ]
     },
     "metadata": {
      "needs_background": "light"
     },
     "output_type": "display_data"
    },
    {
     "data": {
      "image/png": "[encoded data removed]",
      "text/plain": [
       "<Figure size 432x288 with 1 Axes>"
      ]
     },
     "metadata": {
      "needs_background": "light"
     },
     "output_type": "display_data"
    },
    {
     "data": {
      "image/png": "[encoded data removed]",
      "text/plain": [
       "<Figure size 432x288 with 1 Axes>"
      ]
     },
     "metadata": {
      "needs_background": "light"
     },
     "output_type": "display_data"
    },
    {
     "data": {
      "image/png": "[encoded data removed]",
      "text/plain": [
       "<Figure size 432x288 with 1 Axes>"
      ]
     },
     "metadata": {
      "needs_background": "light"
     },
     "output_type": "display_data"
    },
    {
     "data": {
      "image/png": "[encoded data removed]",
      "text/plain": [
       "<Figure size 432x288 with 1 Axes>"
      ]
     },
     "metadata": {
      "needs_background": "light"
     },
     "output_type": "display_data"
    }
   ],
   "source": [
    "for col in num_cols:\n",
    "    sns.histplot(data = train, x = col, kde = True)\n",
    "    plt.show()"
   ]
  },
  {
   "cell_type": "markdown",
   "id": "5a737e0f-7d9e-4579-9d1e-df4f5a9fb3e5",
   "metadata": {},
   "source": [
    "<h2> Filtering numerical columns </h2>\n",
    "<p> We can see that only <b>Age</b> and <b>Fare</b> fit the definition of numerical columns. We cant prove that other ordinal variables have a linear relationship. Hence we will conver columns other than Age and Fare into categorical columns</p>\n"
   ]
  },
  {
   "cell_type": "code",
   "execution_count": 1090,
   "id": "47406f6f-281b-4114-a275-35880ecff588",
   "metadata": {},
   "outputs": [],
   "source": [
    "for col in num_cols:\n",
    "    if ((col!= 'Age') & (col != 'Fare')):\n",
    "        train[col] = train[col].astype(object)"
   ]
  },
  {
   "cell_type": "code",
   "execution_count": 1091,
   "id": "3385e78b-dd97-4c8c-acda-32138f3483a2",
   "metadata": {},
   "outputs": [
    {
     "name": "stdout",
     "output_type": "stream",
     "text": [
      "<class 'pandas.core.frame.DataFrame'>\n",
      "RangeIndex: 891 entries, 0 to 890\n",
      "Data columns (total 11 columns):\n",
      " #   Column       Non-Null Count  Dtype  \n",
      "---  ------       --------------  -----  \n",
      " 0   PassengerId  891 non-null    int64  \n",
      " 1   Survived     891 non-null    int64  \n",
      " 2   Pclass       891 non-null    object \n",
      " 3   Name         891 non-null    object \n",
      " 4   Sex          891 non-null    object \n",
      " 5   Age          891 non-null    float64\n",
      " 6   SibSp        891 non-null    object \n",
      " 7   Parch        891 non-null    object \n",
      " 8   Fare         891 non-null    float64\n",
      " 9   Embarked     891 non-null    object \n",
      " 10  Titles       891 non-null    object \n",
      "dtypes: float64(2), int64(2), object(7)\n",
      "memory usage: 76.7+ KB\n"
     ]
    }
   ],
   "source": [
    "train.info()"
   ]
  },
  {
   "cell_type": "markdown",
   "id": "c1d62097-04d9-4acc-bac6-eb70b962618b",
   "metadata": {},
   "source": [
    "<p> Should do the same for test dataset </p>"
   ]
  },
  {
   "cell_type": "code",
   "execution_count": 1092,
   "id": "73d1e0a6-8c39-405f-80a8-c12a69ae45b1",
   "metadata": {},
   "outputs": [],
   "source": [
    "for col in num_cols:\n",
    "    if ((col!= 'Age') & (col != 'Fare')):\n",
    "        train[col] = train[col].astype(object)"
   ]
  },
  {
   "cell_type": "code",
   "execution_count": 1093,
   "id": "2e34ed4e-a586-448e-90b9-5504fdad38f8",
   "metadata": {},
   "outputs": [
    {
     "name": "stdout",
     "output_type": "stream",
     "text": [
      "<class 'pandas.core.frame.DataFrame'>\n",
      "RangeIndex: 418 entries, 0 to 417\n",
      "Data columns (total 10 columns):\n",
      " #   Column       Non-Null Count  Dtype  \n",
      "---  ------       --------------  -----  \n",
      " 0   PassengerId  418 non-null    int64  \n",
      " 1   Pclass       418 non-null    int64  \n",
      " 2   Name         418 non-null    object \n",
      " 3   Sex          418 non-null    object \n",
      " 4   Age          418 non-null    float64\n",
      " 5   SibSp        418 non-null    int64  \n",
      " 6   Parch        418 non-null    int64  \n",
      " 7   Fare         418 non-null    float64\n",
      " 8   Embarked     418 non-null    object \n",
      " 9   Titles       418 non-null    object \n",
      "dtypes: float64(2), int64(4), object(4)\n",
      "memory usage: 32.8+ KB\n"
     ]
    }
   ],
   "source": [
    "test.info()"
   ]
  },
  {
   "cell_type": "markdown",
   "id": "ef09c253-ec95-43e4-9ac8-80f2b8ed4c3d",
   "metadata": {},
   "source": [
    "<h3> Update the list of Categorical and Numerical columns to fit the defintion </h3>"
   ]
  },
  {
   "cell_type": "code",
   "execution_count": 1094,
   "id": "e55507de-3f42-46b8-821f-cfd34384944b",
   "metadata": {},
   "outputs": [],
   "source": [
    "num_cols = train.describe().columns\n",
    "cat_cols = train.columns.drop(num_cols)\n",
    "num_cols = num_cols.drop(['PassengerId','Survived'])"
   ]
  },
  {
   "cell_type": "code",
   "execution_count": 1095,
   "id": "b840f08e-1fc3-44aa-a92c-9eeb6d5eeb71",
   "metadata": {},
   "outputs": [
    {
     "data": {
      "text/plain": [
       "Index(['Age', 'Fare'], dtype='object')"
      ]
     },
     "execution_count": 1095,
     "metadata": {},
     "output_type": "execute_result"
    }
   ],
   "source": [
    "num_cols"
   ]
  },
  {
   "cell_type": "code",
   "execution_count": 1096,
   "id": "b2ad9cde-760b-40bf-9fe2-0cb8ebfa74b7",
   "metadata": {},
   "outputs": [
    {
     "data": {
      "text/plain": [
       "Index(['Pclass', 'Name', 'Sex', 'SibSp', 'Parch', 'Embarked', 'Titles'], dtype='object')"
      ]
     },
     "execution_count": 1096,
     "metadata": {},
     "output_type": "execute_result"
    }
   ],
   "source": [
    "cat_cols"
   ]
  },
  {
   "cell_type": "code",
   "execution_count": 1097,
   "id": "f6d49572-1579-4949-9dda-007434da11a6",
   "metadata": {},
   "outputs": [],
   "source": [
    "cat_cols = cat_cols.drop('Name')"
   ]
  },
  {
   "cell_type": "markdown",
   "id": "11b4d7dd-8c65-4348-b3c4-a80217c6ec86",
   "metadata": {},
   "source": [
    "<h2> Countplot of Catogorical columns </h2>"
   ]
  },
  {
   "cell_type": "code",
   "execution_count": 1098,
   "id": "323f3939-85ba-45ee-b457-19ebd9e49703",
   "metadata": {},
   "outputs": [
    {
     "data": {
      "image/png": "[encoded data removed]",
      "text/plain": [
       "<Figure size 432x288 with 1 Axes>"
      ]
     },
     "metadata": {
      "needs_background": "light"
     },
     "output_type": "display_data"
    },
    {
     "data": {
      "image/png": "[encoded data removed]",
      "text/plain": [
       "<Figure size 432x288 with 1 Axes>"
      ]
     },
     "metadata": {
      "needs_background": "light"
     },
     "output_type": "display_data"
    },
    {
     "data": {
      "image/png": "[encoded data removed]",
      "text/plain": [
       "<Figure size 432x288 with 1 Axes>"
      ]
     },
     "metadata": {
      "needs_background": "light"
     },
     "output_type": "display_data"
    },
    {
     "data": {
      "image/png": "[encoded data removed]",
      "text/plain": [
       "<Figure size 432x288 with 1 Axes>"
      ]
     },
     "metadata": {
      "needs_background": "light"
     },
     "output_type": "display_data"
    },
    {
     "data": {
      "image/png": "[encoded data removed]",
      "text/plain": [
       "<Figure size 432x288 with 1 Axes>"
      ]
     },
     "metadata": {
      "needs_background": "light"
     },
     "output_type": "display_data"
    },
    {
     "data": {
      "image/png": "[encoded data removed]",
      "text/plain": [
       "<Figure size 432x288 with 1 Axes>"
      ]
     },
     "metadata": {
      "needs_background": "light"
     },
     "output_type": "display_data"
    }
   ],
   "source": [
    "for col in cat_cols:\n",
    "    sns.countplot(data=train, x = col)\n",
    "    plt.show()"
   ]
  },
  {
   "cell_type": "code",
   "execution_count": 1099,
   "id": "cc2ecd2f-05ab-4901-a3c4-55c6d454e057",
   "metadata": {},
   "outputs": [
    {
     "data": {
      "text/plain": [
       "<AxesSubplot:xlabel='Survived', ylabel='count'>"
      ]
     },
     "execution_count": 1099,
     "metadata": {},
     "output_type": "execute_result"
    },
    {
     "data": {
      "image/png": "[encoded data removed]",
      "text/plain": [
       "<Figure size 432x288 with 1 Axes>"
      ]
     },
     "metadata": {
      "needs_background": "light"
     },
     "output_type": "display_data"
    }
   ],
   "source": [
    "sns.countplot(data = train, x='Survived')"
   ]
  },
  {
   "cell_type": "markdown",
   "id": "f0cd0a19-a24d-40f5-b316-36b75210de9e",
   "metadata": {},
   "source": [
    "<h2> Boxplot of Numerical columns with Survived column </h2>"
   ]
  },
  {
   "cell_type": "code",
   "execution_count": 1100,
   "id": "11c8435e-d875-4269-8a03-a31210fff2fd",
   "metadata": {},
   "outputs": [
    {
     "data": {
      "image/png": "[encoded data removed]",
      "text/plain": [
       "<Figure size 432x288 with 1 Axes>"
      ]
     },
     "metadata": {
      "needs_background": "light"
     },
     "output_type": "display_data"
    },
    {
     "data": {
      "image/png": "[encoded data removed]",
      "text/plain": [
       "<Figure size 432x288 with 1 Axes>"
      ]
     },
     "metadata": {
      "needs_background": "light"
     },
     "output_type": "display_data"
    }
   ],
   "source": [
    "for col in num_cols:\n",
    "    sns.boxplot(data = train, x='Survived', y = col)\n",
    "    plt.show()"
   ]
  },
  {
   "cell_type": "markdown",
   "id": "670e7f2d-0a4f-4aea-9a0d-097174f863d8",
   "metadata": {},
   "source": [
    "<h2> Outliers in numerical columns </h2>\n",
    "<p> It can be seen that Age and Fare column are <b>not normally distributed</b> and from the histograms and kde plot it can be seen that they are <b>right skewed</b>. We will handle this in our next step which is Data Preprocessing</p>"
   ]
  },
  {
   "cell_type": "markdown",
   "id": "94081539-c181-4966-9cad-623fe257c0bb",
   "metadata": {},
   "source": [
    "<p> Before that let's visualize categorical columns by using Survived as hue. <p>"
   ]
  },
  {
   "cell_type": "markdown",
   "id": "470a902b-9197-47fb-a41a-2fb89b89a04a",
   "metadata": {},
   "source": [
    "<h2> Categorical columns visualization with Survived</h2>"
   ]
  },
  {
   "cell_type": "code",
   "execution_count": 1101,
   "id": "92df2934-d730-487d-8271-2c778a507586",
   "metadata": {},
   "outputs": [
    {
     "data": {
      "image/png": "[encoded data removed]",
      "text/plain": [
       "<Figure size 432x288 with 1 Axes>"
      ]
     },
     "metadata": {
      "needs_background": "light"
     },
     "output_type": "display_data"
    },
    {
     "data": {
      "image/png": "[encoded data removed]",
      "text/plain": [
       "<Figure size 432x288 with 1 Axes>"
      ]
     },
     "metadata": {
      "needs_background": "light"
     },
     "output_type": "display_data"
    },
    {
     "data": {
      "image/png": "[encoded data removed]",
      "text/plain": [
       "<Figure size 432x288 with 1 Axes>"
      ]
     },
     "metadata": {
      "needs_background": "light"
     },
     "output_type": "display_data"
    },
    {
     "data": {
      "image/png": "[encoded data removed]",
      "text/plain": [
       "<Figure size 432x288 with 1 Axes>"
      ]
     },
     "metadata": {
      "needs_background": "light"
     },
     "output_type": "display_data"
    },
    {
     "data": {
      "image/png": "[encoded data removed]",
      "text/plain": [
       "<Figure size 432x288 with 1 Axes>"
      ]
     },
     "metadata": {
      "needs_background": "light"
     },
     "output_type": "display_data"
    },
    {
     "data": {
      "image/png": "[encoded data removed]",
      "text/plain": [
       "<Figure size 432x288 with 1 Axes>"
      ]
     },
     "metadata": {
      "needs_background": "light"
     },
     "output_type": "display_data"
    }
   ],
   "source": [
    "for col in cat_cols:\n",
    "    sns.countplot(data=train, x = col, hue = 'Survived')\n",
    "    plt.show()"
   ]
  },
  {
   "cell_type": "markdown",
   "id": "7ab09829-7837-46e7-9d9e-a549abc9ff98",
   "metadata": {},
   "source": [
    "<h2> Feature Engineering </h2>\n",
    "<p> There is one possibility of feature engineering that we are going to explore. We will be combining SibSp and Parch column to create family column. We will then test the statistical significance of the new column and compare it to the original columns.</p>\n",
    "<p> One issue which we have not resolved is the high correlation of Sex and Titles column. Since Titles contains the information already in Sex column, we need to drop sec column.</p>"
   ]
  },
  {
   "cell_type": "markdown",
   "id": "3d76de6e-794c-4628-91db-793d070b281f",
   "metadata": {},
   "source": [
    "<h3> Creating Family column </h3>"
   ]
  },
  {
   "cell_type": "code",
   "execution_count": 1102,
   "id": "2c0ff684-467b-4827-a0ea-c3ab9c6dcd47",
   "metadata": {},
   "outputs": [],
   "source": [
    "train['Family'] = (train['SibSp'].astype(int)+train['Parch'].astype(int)).astype(str)"
   ]
  },
  {
   "cell_type": "code",
   "execution_count": 1103,
   "id": "1213a478-0783-48c4-92e2-e753b22b78b6",
   "metadata": {},
   "outputs": [],
   "source": [
    "def chi2(col1, col2):\n",
    "    stat, p, dof, expected = chi2_contingency(pd.crosstab(train[col1],train[col2]))\n",
    "    alpha = 0.05\n",
    "    if(p<alpha):\n",
    "        print('p = ',p)\n",
    "        print('Dependent (reject H0)')\n",
    "    else:\n",
    "        print('p = ',p)\n",
    "        print('Independent (fail to reject H0)')"
   ]
  },
  {
   "cell_type": "code",
   "execution_count": 1104,
   "id": "fe08ee67-ab46-4354-bee4-b9d4d494da83",
   "metadata": {},
   "outputs": [
    {
     "name": "stdout",
     "output_type": "stream",
     "text": [
      "Chi-Square test for SibSp\n",
      "p =  1.5585810465902147e-06\n",
      "Dependent (reject H0)\n",
      "******************************\n",
      "Chi-Square test for Parch\n",
      "p =  9.703526421039997e-05\n",
      "Dependent (reject H0)\n",
      "******************************\n",
      "Chi-Square test for family\n",
      "p =  3.5796689754435595e-14\n",
      "Dependent (reject H0)\n",
      "******************************\n"
     ]
    }
   ],
   "source": [
    "print('Chi-Square test for SibSp')\n",
    "chi2('SibSp','Survived')\n",
    "print('*'*30)\n",
    "print('Chi-Square test for Parch')\n",
    "chi2('Parch','Survived')\n",
    "print('*'*30)\n",
    "print('Chi-Square test for family')\n",
    "chi2('Family','Survived')\n",
    "print('*'*30)"
   ]
  },
  {
   "cell_type": "markdown",
   "id": "cb3c8111-7c23-4b7d-b1df-92165ed5500e",
   "metadata": {},
   "source": [
    "<h3> Green Signal on creating the family column </h3>\n",
    "<p> We can see that family column has <i>greater statistical significance</i> than both of the columns combined. Hence we will be <b>droping SibSp and Parch</b> and <b>adding Family column</b></p>"
   ]
  },
  {
   "cell_type": "code",
   "execution_count": 1105,
   "id": "37ccd279-951f-4873-b090-2ecaadda6c32",
   "metadata": {},
   "outputs": [],
   "source": [
    "test['Family'] = (test['SibSp'].astype(int)+test['Parch'].astype(int)).astype(str)"
   ]
  },
  {
   "cell_type": "code",
   "execution_count": 1106,
   "id": "0b660022-c887-4663-9278-9997d6d24dc5",
   "metadata": {},
   "outputs": [],
   "source": [
    "train.drop(columns=['SibSp','Parch'], inplace= True)\n",
    "test.drop(columns=['SibSp','Parch'], inplace= True)"
   ]
  },
  {
   "cell_type": "markdown",
   "id": "0d3fccb1-5681-48d7-9749-47a2798a4bbb",
   "metadata": {},
   "source": [
    "<h3> Checking correlation of Sex column and Titles column</h3>\n",
    "<p> If they are highly correlated we will have to drop the sex column </p>"
   ]
  },
  {
   "cell_type": "code",
   "execution_count": 1107,
   "id": "9fa13ee3-9473-4701-9b7b-d72e8eb19109",
   "metadata": {},
   "outputs": [
    {
     "name": "stdout",
     "output_type": "stream",
     "text": [
      "p =  1.657876515605297e-188\n",
      "Dependent (reject H0)\n"
     ]
    }
   ],
   "source": [
    "chi2('Sex','Titles')"
   ]
  },
  {
   "cell_type": "markdown",
   "id": "d3d2f1f4-ed4d-416a-bd8a-282570acd768",
   "metadata": {},
   "source": [
    "<p> As we can see, both the columns ar highly correlated. Hence we will be dropping Sex column from the train and test dataset.</p>"
   ]
  },
  {
   "cell_type": "code",
   "execution_count": 1108,
   "id": "532087f6-9e75-40a7-ae7c-e09b4e04d73c",
   "metadata": {},
   "outputs": [],
   "source": [
    "train.drop(columns='Sex', inplace= True)\n",
    "test.drop(columns='Sex', inplace = True)"
   ]
  },
  {
   "cell_type": "markdown",
   "id": "c3978ea9-adb2-4913-8b2d-b35d97fdf7db",
   "metadata": {},
   "source": [
    "<h2> Data Preprocessing </h2>"
   ]
  },
  {
   "cell_type": "markdown",
   "id": "a462150c-f9ed-4279-8588-8d6b82b42490",
   "metadata": {},
   "source": [
    "<p> We have two numerical columns namely <b>Fare and Age</b> which need to be tranformed into a normal distribution</p>"
   ]
  },
  {
   "cell_type": "markdown",
   "id": "7824f546-5640-49bb-95ba-a5df22535345",
   "metadata": {},
   "source": [
    "<h3> Fare column </h3>"
   ]
  },
  {
   "cell_type": "markdown",
   "id": "78c375d5-5f51-48a0-9d5c-d2d0474acd6a",
   "metadata": {},
   "source": [
    "<h4> Before applying boxcox tranformation</h4>"
   ]
  },
  {
   "cell_type": "markdown",
   "id": "b2bce409-4552-4606-a2bb-f21af97339e2",
   "metadata": {},
   "source": [
    "<p> The probability plot tells us how the given distribution related to the normal distribution on the given quantiles</p>"
   ]
  },
  {
   "cell_type": "code",
   "execution_count": 1109,
   "id": "ac580939-a7df-4258-a6b0-e8c35cc924aa",
   "metadata": {},
   "outputs": [
    {
     "data": {
      "text/plain": [
       "(35.891199361614504, 32.204207968574636, 0.7204363989046636)"
      ]
     },
     "execution_count": 1109,
     "metadata": {},
     "output_type": "execute_result"
    },
    {
     "data": {
      "image/png": "[encoded data removed]",
      "text/plain": [
       "<Figure size 432x288 with 1 Axes>"
      ]
     },
     "metadata": {
      "needs_background": "light"
     },
     "output_type": "display_data"
    }
   ],
   "source": [
    "stats.probplot(train['Fare'], dist='norm', plot=plt)[-1]"
   ]
  },
  {
   "cell_type": "markdown",
   "id": "5a693a1d-6d05-4625-b283-cc6faababb27",
   "metadata": {},
   "source": [
    "<h4>After applying boxcox transformation</h4>"
   ]
  },
  {
   "cell_type": "code",
   "execution_count": 1110,
   "id": "d2e8d789-41f1-449a-9883-e3d3347b8448",
   "metadata": {},
   "outputs": [],
   "source": [
    "train['Fare'], fitted_lambda = boxcox(train['Fare']+1)"
   ]
  },
  {
   "cell_type": "code",
   "execution_count": 1111,
   "id": "b29c6242-a01b-4e9f-96fc-b29f8f97fde6",
   "metadata": {},
   "outputs": [
    {
     "data": {
      "text/plain": [
       "(0.6878022006280166, 2.5377994102267682, 0.9548723970863359)"
      ]
     },
     "execution_count": 1111,
     "metadata": {},
     "output_type": "execute_result"
    },
    {
     "data": {
      "image/png": "[encoded data removed]",
      "text/plain": [
       "<Figure size 432x288 with 1 Axes>"
      ]
     },
     "metadata": {
      "needs_background": "light"
     },
     "output_type": "display_data"
    }
   ],
   "source": [
    "stats.probplot(train['Fare'], dist='norm', plot=plt)[-1]"
   ]
  },
  {
   "cell_type": "code",
   "execution_count": 1112,
   "id": "ee3dc009-a410-48f8-b4f9-39ce7b7513d3",
   "metadata": {},
   "outputs": [],
   "source": [
    "test['Fare'], fitted_lambda = boxcox(test['Fare']+1)"
   ]
  },
  {
   "cell_type": "markdown",
   "id": "0da2dfaa-6a22-415a-b971-28e0842775fa",
   "metadata": {},
   "source": [
    "<h3> Age column </h3>"
   ]
  },
  {
   "cell_type": "markdown",
   "id": "c9b295f4-2ac2-4dab-bcf1-ae16b217996a",
   "metadata": {},
   "source": [
    "<h4> Before applying the boxcox plot </h4>"
   ]
  },
  {
   "cell_type": "code",
   "execution_count": 1113,
   "id": "d0874039-9d9c-4d18-a130-f1a47347929a",
   "metadata": {},
   "outputs": [
    {
     "data": {
      "text/plain": [
       "(13.443995242981238, 29.427278127446026, 0.9897528052415783)"
      ]
     },
     "execution_count": 1113,
     "metadata": {},
     "output_type": "execute_result"
    },
    {
     "data": {
      "image/png": "[encoded data removed]",
      "text/plain": [
       "<Figure size 432x288 with 1 Axes>"
      ]
     },
     "metadata": {
      "needs_background": "light"
     },
     "output_type": "display_data"
    }
   ],
   "source": [
    "stats.probplot(train['Age'], dist='norm', plot=plt)[-1]"
   ]
  },
  {
   "cell_type": "markdown",
   "id": "5ca657c2-9be9-4204-9487-74028c2628bd",
   "metadata": {},
   "source": [
    "<h4>After applying box plot</h4>"
   ]
  },
  {
   "cell_type": "code",
   "execution_count": 1114,
   "id": "5768fa2c-0a9c-4012-838e-956b991d3671",
   "metadata": {},
   "outputs": [
    {
     "data": {
      "text/plain": [
       "(6.739270230154552, 16.61749533865932, 0.9922028746145277)"
      ]
     },
     "execution_count": 1114,
     "metadata": {},
     "output_type": "execute_result"
    },
    {
     "data": {
      "image/png": "[encoded data removed]",
      "text/plain": [
       "<Figure size 432x288 with 1 Axes>"
      ]
     },
     "metadata": {
      "needs_background": "light"
     },
     "output_type": "display_data"
    }
   ],
   "source": [
    "stats.probplot(boxcox(train['Age'])[0], dist='norm', plot=plt)[-1]"
   ]
  },
  {
   "cell_type": "markdown",
   "id": "bcc89b0c-2043-4bf4-9962-cbbe1818fb42",
   "metadata": {},
   "source": [
    "<p>We can see that boxcox transformation on Age column does not bring about much change. There is a visible trade-off between the higher values and lower values before and after the transformation. Hence we will not apply boxcox tranformation on the Age column</p>"
   ]
  },
  {
   "cell_type": "markdown",
   "id": "76eb9b00-5cbb-4c48-aeaa-61712cfef1eb",
   "metadata": {},
   "source": [
    "<h2> Preparing the data learning algorithm</h2>"
   ]
  },
  {
   "cell_type": "code",
   "execution_count": 1115,
   "id": "00f7e6ec-a68c-47ad-963e-a0aa075962fc",
   "metadata": {},
   "outputs": [
    {
     "data": {
      "text/html": [
       "<div>\n",
       "<style scoped>\n",
       "    .dataframe tbody tr th:only-of-type {\n",
       "        vertical-align: middle;\n",
       "    }\n",
       "\n",
       "    .dataframe tbody tr th {\n",
       "        vertical-align: top;\n",
       "    }\n",
       "\n",
       "    .dataframe thead th {\n",
       "        text-align: right;\n",
       "    }\n",
       "</style>\n",
       "<table border=\"1\" class=\"dataframe\">\n",
       "  <thead>\n",
       "    <tr style=\"text-align: right;\">\n",
       "      <th></th>\n",
       "      <th>PassengerId</th>\n",
       "      <th>Survived</th>\n",
       "      <th>Pclass</th>\n",
       "      <th>Name</th>\n",
       "      <th>Age</th>\n",
       "      <th>Fare</th>\n",
       "      <th>Embarked</th>\n",
       "      <th>Titles</th>\n",
       "      <th>Family</th>\n",
       "    </tr>\n",
       "  </thead>\n",
       "  <tbody>\n",
       "    <tr>\n",
       "      <th>0</th>\n",
       "      <td>1</td>\n",
       "      <td>0.0</td>\n",
       "      <td>3</td>\n",
       "      <td>Braund, Mr. Owen Harris</td>\n",
       "      <td>22.0</td>\n",
       "      <td>1.906724</td>\n",
       "      <td>S</td>\n",
       "      <td>Mr</td>\n",
       "      <td>1</td>\n",
       "    </tr>\n",
       "    <tr>\n",
       "      <th>1</th>\n",
       "      <td>2</td>\n",
       "      <td>1.0</td>\n",
       "      <td>1</td>\n",
       "      <td>Cumings, Mrs. John Bradley (Florence Briggs Th...</td>\n",
       "      <td>38.0</td>\n",
       "      <td>3.497640</td>\n",
       "      <td>C</td>\n",
       "      <td>Mrs</td>\n",
       "      <td>1</td>\n",
       "    </tr>\n",
       "    <tr>\n",
       "      <th>2</th>\n",
       "      <td>3</td>\n",
       "      <td>1.0</td>\n",
       "      <td>3</td>\n",
       "      <td>Heikkinen, Miss. Laina</td>\n",
       "      <td>26.0</td>\n",
       "      <td>1.970459</td>\n",
       "      <td>S</td>\n",
       "      <td>Miss</td>\n",
       "      <td>0</td>\n",
       "    </tr>\n",
       "    <tr>\n",
       "      <th>3</th>\n",
       "      <td>4</td>\n",
       "      <td>1.0</td>\n",
       "      <td>1</td>\n",
       "      <td>Futrelle, Mrs. Jacques Heath (Lily May Peel)</td>\n",
       "      <td>35.0</td>\n",
       "      <td>3.304258</td>\n",
       "      <td>S</td>\n",
       "      <td>Mrs</td>\n",
       "      <td>1</td>\n",
       "    </tr>\n",
       "    <tr>\n",
       "      <th>4</th>\n",
       "      <td>5</td>\n",
       "      <td>0.0</td>\n",
       "      <td>3</td>\n",
       "      <td>Allen, Mr. William Henry</td>\n",
       "      <td>35.0</td>\n",
       "      <td>1.981680</td>\n",
       "      <td>S</td>\n",
       "      <td>Mr</td>\n",
       "      <td>0</td>\n",
       "    </tr>\n",
       "  </tbody>\n",
       "</table>\n",
       "</div>"
      ],
      "text/plain": [
       "   PassengerId  Survived Pclass  \\\n",
       "0            1       0.0      3   \n",
       "1            2       1.0      1   \n",
       "2            3       1.0      3   \n",
       "3            4       1.0      1   \n",
       "4            5       0.0      3   \n",
       "\n",
       "                                                Name   Age      Fare Embarked  \\\n",
       "0                            Braund, Mr. Owen Harris  22.0  1.906724        S   \n",
       "1  Cumings, Mrs. John Bradley (Florence Briggs Th...  38.0  3.497640        C   \n",
       "2                             Heikkinen, Miss. Laina  26.0  1.970459        S   \n",
       "3       Futrelle, Mrs. Jacques Heath (Lily May Peel)  35.0  3.304258        S   \n",
       "4                           Allen, Mr. William Henry  35.0  1.981680        S   \n",
       "\n",
       "  Titles Family  \n",
       "0     Mr      1  \n",
       "1    Mrs      1  \n",
       "2   Miss      0  \n",
       "3    Mrs      1  \n",
       "4     Mr      0  "
      ]
     },
     "execution_count": 1115,
     "metadata": {},
     "output_type": "execute_result"
    }
   ],
   "source": [
    "trainReg = train.copy()\n",
    "testReg = test.copy()\n",
    "df = trainReg.append(testReg)\n",
    "df.head()"
   ]
  },
  {
   "cell_type": "markdown",
   "id": "1ea8f842-7e49-478c-99c6-d38f0cf44a3c",
   "metadata": {},
   "source": [
    "<p> We will remove columns like <b>PassengerId and Name</b> Since they will not be used</p>"
   ]
  },
  {
   "cell_type": "code",
   "execution_count": 1116,
   "id": "4d1f5ba1-d65f-4795-8db8-f3fa49a5ddf4",
   "metadata": {},
   "outputs": [],
   "source": [
    "df.drop(columns=['PassengerId','Name'], inplace=True)"
   ]
  },
  {
   "cell_type": "markdown",
   "id": "339a6e3a-f11c-4cc0-8cf5-a7c9c4d0d242",
   "metadata": {},
   "source": [
    "<h2> Create dummy variables using One-Hot Encoding </h2>"
   ]
  },
  {
   "cell_type": "code",
   "execution_count": 1117,
   "id": "07114f24-0425-43f0-b115-e605a9a2e515",
   "metadata": {},
   "outputs": [],
   "source": [
    "df = pd.get_dummies(df)"
   ]
  },
  {
   "cell_type": "code",
   "execution_count": 1118,
   "id": "9ab2bc78-c845-43cf-8bea-9ca2334a89d0",
   "metadata": {},
   "outputs": [
    {
     "data": {
      "text/plain": [
       "(1309, 24)"
      ]
     },
     "execution_count": 1118,
     "metadata": {},
     "output_type": "execute_result"
    }
   ],
   "source": [
    "df.shape"
   ]
  },
  {
   "cell_type": "code",
   "execution_count": 1119,
   "id": "fc6b2b00-5bae-493e-b7b4-2ca37b63eb8f",
   "metadata": {},
   "outputs": [],
   "source": [
    "trainReg_dummies = df.iloc[:len(trainReg)]\n",
    "testReg_dummies = df.iloc[len(trainReg):]"
   ]
  },
  {
   "cell_type": "code",
   "execution_count": 1120,
   "id": "835fafcc-c442-4c75-b065-b607ed2ca50c",
   "metadata": {},
   "outputs": [],
   "source": [
    "X_train = trainReg_dummies.drop(columns='Survived')\n",
    "y_train = trainReg_dummies['Survived'].astype(int)\n",
    "X_test = testReg_dummies.drop(columns='Survived')"
   ]
  },
  {
   "cell_type": "markdown",
   "id": "882e9f6a-92ea-4198-9207-e10ead1fd4bb",
   "metadata": {},
   "source": [
    "<h3> Scaling the data using Standard Scaler"
   ]
  },
  {
   "cell_type": "code",
   "execution_count": 1121,
   "id": "040cc948-903f-4dbf-98eb-5d3390036a45",
   "metadata": {},
   "outputs": [],
   "source": [
    "scaler = StandardScaler()"
   ]
  },
  {
   "cell_type": "code",
   "execution_count": 1122,
   "id": "6d47128b-509d-4eb9-aca0-3269e442ad9f",
   "metadata": {},
   "outputs": [],
   "source": [
    "X_train_scaled = scaler.fit_transform(X_train)"
   ]
  },
  {
   "cell_type": "code",
   "execution_count": 1123,
   "id": "5efaa4c0-9a33-4ee8-a949-71f29ad1bd75",
   "metadata": {},
   "outputs": [],
   "source": [
    "scaler = StandardScaler()\n",
    "X_test_scaled = scaler.fit_transform(X_test)"
   ]
  },
  {
   "cell_type": "code",
   "execution_count": 1124,
   "id": "639c1310-21db-4a8c-8986-c7f36103ead8",
   "metadata": {},
   "outputs": [
    {
     "data": {
      "text/plain": [
       "(418, 23)"
      ]
     },
     "execution_count": 1124,
     "metadata": {},
     "output_type": "execute_result"
    }
   ],
   "source": [
    "X_test_scaled.shape"
   ]
  },
  {
   "cell_type": "code",
   "execution_count": 1125,
   "id": "2f84cec1-a98d-4b60-a673-10ec7f449c45",
   "metadata": {},
   "outputs": [
    {
     "data": {
      "text/plain": [
       "(891, 23)"
      ]
     },
     "execution_count": 1125,
     "metadata": {},
     "output_type": "execute_result"
    }
   ],
   "source": [
    "X_train_scaled.shape"
   ]
  },
  {
   "cell_type": "markdown",
   "id": "c25b96e7-5ad0-466d-aad4-72ebea87e6dc",
   "metadata": {},
   "source": [
    "<h3> Fitting the Train Dataset to Logistic Regression model without hypertuning te parameters</h3>"
   ]
  },
  {
   "cell_type": "code",
   "execution_count": 1126,
   "id": "2153025f-c8a4-49ca-a4af-d6854f126bdc",
   "metadata": {},
   "outputs": [],
   "source": [
    "logreg = LogisticRegression()\n",
    "logreg.fit(X_train_scaled,y_train)\n",
    "y_pred = logreg.predict(X_test_scaled)"
   ]
  },
  {
   "cell_type": "code",
   "execution_count": 1127,
   "id": "d098d587-9526-45d1-80aa-116bc92305b8",
   "metadata": {},
   "outputs": [],
   "source": [
    "submission = pd.DataFrame()"
   ]
  },
  {
   "cell_type": "code",
   "execution_count": 1128,
   "id": "32ade1c1-a9b9-4d8b-b483-699df51682a6",
   "metadata": {},
   "outputs": [],
   "source": [
    "submission['PassengerId'] = np.arange(len(trainReg)+1, len(df)+1)"
   ]
  },
  {
   "cell_type": "code",
   "execution_count": 1129,
   "id": "d2a9fd9a-1a03-44b3-a3a9-60f8172d454a",
   "metadata": {},
   "outputs": [],
   "source": [
    "submission['Survived'] = y_pred"
   ]
  },
  {
   "cell_type": "code",
   "execution_count": 1130,
   "id": "43f283e7-8b7a-480b-ac2b-3adb34a7d0bb",
   "metadata": {},
   "outputs": [
    {
     "data": {
      "text/plain": [
       "(418, 2)"
      ]
     },
     "execution_count": 1130,
     "metadata": {},
     "output_type": "execute_result"
    }
   ],
   "source": [
    "submission.shape"
   ]
  },
  {
   "cell_type": "code",
   "execution_count": 1131,
   "id": "424a4c21-f9b7-487d-9924-1ae01406b66b",
   "metadata": {},
   "outputs": [],
   "source": [
    "submission.to_csv('18J.csv')"
   ]
  },
  {
   "cell_type": "code",
   "execution_count": 1132,
   "id": "8a89b23a-ce9a-4052-a503-46306c920915",
   "metadata": {},
   "outputs": [
    {
     "data": {
      "text/html": [
       "<div>\n",
       "<style scoped>\n",
       "    .dataframe tbody tr th:only-of-type {\n",
       "        vertical-align: middle;\n",
       "    }\n",
       "\n",
       "    .dataframe tbody tr th {\n",
       "        vertical-align: top;\n",
       "    }\n",
       "\n",
       "    .dataframe thead th {\n",
       "        text-align: right;\n",
       "    }\n",
       "</style>\n",
       "<table border=\"1\" class=\"dataframe\">\n",
       "  <thead>\n",
       "    <tr style=\"text-align: right;\">\n",
       "      <th></th>\n",
       "      <th>PassengerId</th>\n",
       "      <th>Survived</th>\n",
       "    </tr>\n",
       "  </thead>\n",
       "  <tbody>\n",
       "    <tr>\n",
       "      <th>0</th>\n",
       "      <td>892</td>\n",
       "      <td>0</td>\n",
       "    </tr>\n",
       "    <tr>\n",
       "      <th>1</th>\n",
       "      <td>893</td>\n",
       "      <td>0</td>\n",
       "    </tr>\n",
       "    <tr>\n",
       "      <th>2</th>\n",
       "      <td>894</td>\n",
       "      <td>0</td>\n",
       "    </tr>\n",
       "    <tr>\n",
       "      <th>3</th>\n",
       "      <td>895</td>\n",
       "      <td>0</td>\n",
       "    </tr>\n",
       "    <tr>\n",
       "      <th>4</th>\n",
       "      <td>896</td>\n",
       "      <td>1</td>\n",
       "    </tr>\n",
       "  </tbody>\n",
       "</table>\n",
       "</div>"
      ],
      "text/plain": [
       "   PassengerId  Survived\n",
       "0          892         0\n",
       "1          893         0\n",
       "2          894         0\n",
       "3          895         0\n",
       "4          896         1"
      ]
     },
     "execution_count": 1132,
     "metadata": {},
     "output_type": "execute_result"
    }
   ],
   "source": [
    "submission.head()"
   ]
  },
  {
   "cell_type": "code",
   "execution_count": 1133,
   "id": "f38097e4-c5dd-46b4-8a1a-4fd54db271f9",
   "metadata": {},
   "outputs": [],
   "source": [
    "def confusion_matrix_scorer(logreg, X,y):\n",
    "    y_pred = logreg.predict(X)\n",
    "    cm = confusion_matrix(y, y_pred)\n",
    "    return {'tn': cm[0, 0], 'fp': cm[0, 1],\n",
    "            'fn': cm[1, 0], 'tp': cm[1, 1]}"
   ]
  },
  {
   "cell_type": "code",
   "execution_count": 1134,
   "id": "1bce3ffc-625f-42f5-8242-a7ac81a0c42b",
   "metadata": {},
   "outputs": [
    {
     "data": {
      "text/plain": [
       "array([[-0.39105627,  0.35105626,  0.47597156,  0.0141081 , -0.42158126,\n",
       "         0.04618374,  0.04360396, -0.06789886,  0.35285444,  0.41947186,\n",
       "        -0.87527865,  0.64517644, -0.2431546 , -0.01384882,  0.35286193,\n",
       "         0.04734655, -0.49157111,  0.06327162,  0.04530697, -0.3232523 ,\n",
       "        -0.48519897, -0.15947999, -0.49407526]])"
      ]
     },
     "execution_count": 1134,
     "metadata": {},
     "output_type": "execute_result"
    }
   ],
   "source": [
    "logreg.coef_"
   ]
  },
  {
   "cell_type": "code",
   "execution_count": 1135,
   "id": "7e3b58d6-effc-4d85-9c71-c49a6ac34e3e",
   "metadata": {},
   "outputs": [],
   "source": [
    "score = cross_validate(logreg, X_train_scaled, y_train,scoring=['accuracy','precision','recall'],cv=5)"
   ]
  },
  {
   "cell_type": "code",
   "execution_count": 1136,
   "id": "d11a7066-14f4-4565-8d8f-0524469f329a",
   "metadata": {},
   "outputs": [
    {
     "data": {
      "text/plain": [
       "{'fit_time': array([0.02615881, 0.02780604, 0.02226686, 0.02540135, 0.02509856]),\n",
       " 'score_time': array([0.00378919, 0.00407648, 0.00339603, 0.00365376, 0.00328636]),\n",
       " 'test_accuracy': array([0.82122905, 0.8258427 , 0.80337079, 0.80337079, 0.85955056]),\n",
       " 'test_precision': array([0.75342466, 0.78461538, 0.74626866, 0.82352941, 0.84375   ]),\n",
       " 'test_recall': array([0.79710145, 0.75      , 0.73529412, 0.61764706, 0.7826087 ])}"
      ]
     },
     "execution_count": 1136,
     "metadata": {},
     "output_type": "execute_result"
    }
   ],
   "source": [
    "score"
   ]
  },
  {
   "cell_type": "code",
   "execution_count": 1137,
   "id": "fc6840e2-0042-45a2-8f8d-c2dbcb3decc2",
   "metadata": {},
   "outputs": [],
   "source": [
    "score = cross_validate(logreg, X_train_scaled, y_train,scoring=confusion_matrix_scorer,cv=5)"
   ]
  },
  {
   "cell_type": "code",
   "execution_count": 1138,
   "id": "fe694ed1-e2c3-4ed7-8c2e-d1f2b1738b6e",
   "metadata": {},
   "outputs": [
    {
     "data": {
      "text/plain": [
       "{'fit_time': array([0.04387856, 0.05011415, 0.0364418 , 0.05452919, 0.03772926]),\n",
       " 'score_time': array([0.0013535 , 0.00127363, 0.00124478, 0.00140238, 0.00149274]),\n",
       " 'test_tn': array([ 92,  96,  93, 101,  99]),\n",
       " 'test_fp': array([18, 14, 17,  9, 10]),\n",
       " 'test_fn': array([14, 17, 18, 26, 15]),\n",
       " 'test_tp': array([55, 51, 50, 42, 54])}"
      ]
     },
     "execution_count": 1138,
     "metadata": {},
     "output_type": "execute_result"
    }
   ],
   "source": [
    "score"
   ]
  },
  {
   "cell_type": "markdown",
   "id": "c07a9b19-7ba7-4d84-9aa7-28b9c37f6d28",
   "metadata": {},
   "source": [
    "<h2> Using Label Encoder </h2>"
   ]
  },
  {
   "cell_type": "code",
   "execution_count": 1139,
   "id": "71c8a79f-11a1-4098-9389-c8274ebca6b8",
   "metadata": {},
   "outputs": [],
   "source": [
    "df = trainReg.append(testReg)"
   ]
  },
  {
   "cell_type": "code",
   "execution_count": 1140,
   "id": "d11fd2c1-264b-4564-a376-435fd8689c80",
   "metadata": {},
   "outputs": [
    {
     "name": "stdout",
     "output_type": "stream",
     "text": [
      "<class 'pandas.core.frame.DataFrame'>\n",
      "Int64Index: 1309 entries, 0 to 417\n",
      "Data columns (total 9 columns):\n",
      " #   Column       Non-Null Count  Dtype  \n",
      "---  ------       --------------  -----  \n",
      " 0   PassengerId  1309 non-null   int64  \n",
      " 1   Survived     891 non-null    float64\n",
      " 2   Pclass       1309 non-null   object \n",
      " 3   Name         1309 non-null   object \n",
      " 4   Age          1309 non-null   float64\n",
      " 5   Fare         1309 non-null   float64\n",
      " 6   Embarked     1309 non-null   object \n",
      " 7   Titles       1309 non-null   object \n",
      " 8   Family       1309 non-null   object \n",
      "dtypes: float64(3), int64(1), object(5)\n",
      "memory usage: 102.3+ KB\n"
     ]
    }
   ],
   "source": [
    "df.info()"
   ]
  },
  {
   "cell_type": "markdown",
   "id": "f9b94ef1-aaba-441d-9a79-bb8751ed48c1",
   "metadata": {},
   "source": [
    "<p> We will use Label Encoder here and check our results</p>"
   ]
  },
  {
   "cell_type": "code",
   "execution_count": 1141,
   "id": "d7d56976-a61f-4ef1-b60a-466a38e66959",
   "metadata": {},
   "outputs": [],
   "source": [
    "def enc(df):\n",
    "    lb = LabelEncoder()\n",
    "    return (lb.fit_transform(df))"
   ]
  },
  {
   "cell_type": "code",
   "execution_count": 1142,
   "id": "8c4386eb-3a10-4dbc-ba38-3de6abc652ee",
   "metadata": {},
   "outputs": [],
   "source": [
    "df.drop(columns=['PassengerId','Name'], inplace = True)"
   ]
  },
  {
   "cell_type": "code",
   "execution_count": 1143,
   "id": "db8dbb85-8884-4236-b6d1-2a0962d1e0dd",
   "metadata": {},
   "outputs": [],
   "source": [
    "lb = LabelEncoder()"
   ]
  },
  {
   "cell_type": "code",
   "execution_count": 1144,
   "id": "299bb11d-7a1e-44c6-befc-1492eb421886",
   "metadata": {},
   "outputs": [],
   "source": [
    "df['Pclass'] = lb.fit_transform(df['Pclass'])"
   ]
  },
  {
   "cell_type": "code",
   "execution_count": 1145,
   "id": "71bb2209-a973-4163-bdea-cc816fb8971c",
   "metadata": {},
   "outputs": [
    {
     "data": {
      "text/plain": [
       "2    709\n",
       "0    323\n",
       "1    277\n",
       "Name: Pclass, dtype: int64"
      ]
     },
     "execution_count": 1145,
     "metadata": {},
     "output_type": "execute_result"
    }
   ],
   "source": [
    "df['Pclass'].value_counts()"
   ]
  },
  {
   "cell_type": "code",
   "execution_count": 1146,
   "id": "78f6d25a-cd80-42d3-a482-f676a0d4a4e4",
   "metadata": {},
   "outputs": [],
   "source": [
    "df['Embarked'] = lb.fit_transform(df['Embarked'])"
   ]
  },
  {
   "cell_type": "code",
   "execution_count": 1147,
   "id": "99d6af03-d712-4bac-a8a7-0c8f34abf0ee",
   "metadata": {},
   "outputs": [
    {
     "data": {
      "text/plain": [
       "2    916\n",
       "0    270\n",
       "1    123\n",
       "Name: Embarked, dtype: int64"
      ]
     },
     "execution_count": 1147,
     "metadata": {},
     "output_type": "execute_result"
    }
   ],
   "source": [
    "df['Embarked'].value_counts()"
   ]
  },
  {
   "cell_type": "code",
   "execution_count": 1148,
   "id": "d0d808e8-c707-41a7-bf79-3ec66ebc3feb",
   "metadata": {},
   "outputs": [],
   "source": [
    "df['Titles'] = lb.fit_transform(df['Titles'])"
   ]
  },
  {
   "cell_type": "code",
   "execution_count": 1149,
   "id": "40907774-a56f-404c-a8b1-ff0c928dcd91",
   "metadata": {},
   "outputs": [
    {
     "data": {
      "text/plain": [
       "2    757\n",
       "1    264\n",
       "3    198\n",
       "0     61\n",
       "4     24\n",
       "5      5\n",
       "Name: Titles, dtype: int64"
      ]
     },
     "execution_count": 1149,
     "metadata": {},
     "output_type": "execute_result"
    }
   ],
   "source": [
    "df['Titles'].value_counts()"
   ]
  },
  {
   "cell_type": "code",
   "execution_count": 1150,
   "id": "ff1060ff-0aba-4fba-b22e-595407c91f90",
   "metadata": {},
   "outputs": [],
   "source": [
    "df['Family'] = lb.fit_transform(df['Family'])"
   ]
  },
  {
   "cell_type": "code",
   "execution_count": 1151,
   "id": "87fa5653-202f-40d2-9805-9efbc4fd9f75",
   "metadata": {},
   "outputs": [
    {
     "data": {
      "text/plain": [
       "0    790\n",
       "1    235\n",
       "3    159\n",
       "4     43\n",
       "6     25\n",
       "5     22\n",
       "7     16\n",
       "2     11\n",
       "8      8\n",
       "Name: Family, dtype: int64"
      ]
     },
     "execution_count": 1151,
     "metadata": {},
     "output_type": "execute_result"
    }
   ],
   "source": [
    "df['Family'].value_counts()"
   ]
  },
  {
   "cell_type": "code",
   "execution_count": 1152,
   "id": "10ec353b-71b7-47e9-8eb1-9c2885a0097f",
   "metadata": {},
   "outputs": [],
   "source": [
    "trainReg_dummies = df.iloc[:len(trainReg)]\n",
    "testReg_dummies = df.iloc[len(trainReg):]\n",
    "X_train = trainReg_dummies.drop(columns='Survived')\n",
    "y_train = trainReg_dummies['Survived'].astype(int)\n",
    "X_test = testReg_dummies.drop(columns='Survived')\n",
    "scaler = StandardScaler()\n",
    "X_train_scaled = scaler.fit_transform(X_train)\n",
    "scaler = StandardScaler()\n",
    "X_test_scaled = scaler.fit_transform(X_test)"
   ]
  },
  {
   "cell_type": "code",
   "execution_count": 1153,
   "id": "a561cfc0-dd29-4d9e-b70a-473d2e331821",
   "metadata": {},
   "outputs": [
    {
     "data": {
      "text/plain": [
       "(891, 6)"
      ]
     },
     "execution_count": 1153,
     "metadata": {},
     "output_type": "execute_result"
    }
   ],
   "source": [
    "X_train_scaled.shape"
   ]
  },
  {
   "cell_type": "code",
   "execution_count": 1154,
   "id": "9654cffb-c4c7-41e9-a88f-29b71dfbe5b8",
   "metadata": {},
   "outputs": [
    {
     "data": {
      "text/plain": [
       "(418, 6)"
      ]
     },
     "execution_count": 1154,
     "metadata": {},
     "output_type": "execute_result"
    }
   ],
   "source": [
    "X_test_scaled.shape"
   ]
  },
  {
   "cell_type": "code",
   "execution_count": 1155,
   "id": "ebc736a3-ab95-47f4-bf9e-4e467ddd6757",
   "metadata": {},
   "outputs": [
    {
     "data": {
      "text/plain": [
       "{'fit_time': array([0.00516844, 0.0060463 , 0.00673842, 0.00484967, 0.00437784]),\n",
       " 'score_time': array([0.00369906, 0.00421381, 0.0040822 , 0.00251484, 0.00365996]),\n",
       " 'test_accuracy': array([0.60893855, 0.67977528, 0.74719101, 0.79213483, 0.7247191 ]),\n",
       " 'test_precision': array([0.48888889, 0.60784314, 0.76744186, 0.80392157, 0.7173913 ]),\n",
       " 'test_recall': array([0.31884058, 0.45588235, 0.48529412, 0.60294118, 0.47826087])}"
      ]
     },
     "execution_count": 1155,
     "metadata": {},
     "output_type": "execute_result"
    }
   ],
   "source": [
    "logreg = LogisticRegression()\n",
    "score = cross_validate(logreg, X_train_scaled, y_train,scoring=['accuracy','precision','recall'],cv=5)\n",
    "score"
   ]
  },
  {
   "cell_type": "markdown",
   "id": "9dd6c016-55fb-4adc-9511-6118101fb9a6",
   "metadata": {},
   "source": [
    "<h2> Result of Encoders </h2>"
   ]
  },
  {
   "cell_type": "markdown",
   "id": "bdc2af42-cc21-40f1-9a7b-1c107db4fe00",
   "metadata": {},
   "source": [
    "<p> It is clear that One-Hot Encoding gives better results than Label Encoding. This is because the categorical variable cannot be considered to be ordinal variables. The realtionship between the elements is not linear. </p>"
   ]
  },
  {
   "cell_type": "markdown",
   "id": "7a33898c-3e9c-4014-aa04-1ce7d8e41c1a",
   "metadata": {},
   "source": [
    "<h1> Using GridSearchCV to optimize the Hyperparameters </h1>"
   ]
  },
  {
   "cell_type": "code",
   "execution_count": 1156,
   "id": "d91aab14-ecc2-49f1-b162-6d299dad4f83",
   "metadata": {},
   "outputs": [],
   "source": [
    "df = trainReg.append(testReg)\n",
    "df.drop(columns=['PassengerId','Name'], inplace=True)\n",
    "df = pd.get_dummies(df)\n",
    "trainReg_dummies = df.iloc[:len(trainReg)]\n",
    "testReg_dummies = df.iloc[len(trainReg):]\n",
    "X_train = trainReg_dummies.drop(columns='Survived')\n",
    "y_train = trainReg_dummies['Survived'].astype(int)\n",
    "X_test = testReg_dummies.drop(columns='Survived')\n",
    "scaler = StandardScaler()\n",
    "X_train_scaled = scaler.fit_transform(X_train)\n",
    "scaler = StandardScaler()\n",
    "X_test_scaled = scaler.fit_transform(X_test)"
   ]
  },
  {
   "cell_type": "code",
   "execution_count": 1157,
   "id": "d05ea1e8-1c1b-4fbb-a43f-de6b0c67fef6",
   "metadata": {},
   "outputs": [],
   "source": [
    "param_grid = [\n",
    "    {\n",
    "    'penalty' : ['l1'],\n",
    "    'C' : np.logspace(-4,4,20),\n",
    "    'solver' : ['newton-cg', 'lbfgs', 'liblinear', 'sag', 'saga'],\n",
    "    'max_iter' : [100,500,1000,5000,10000],\n",
    "}\n",
    "]"
   ]
  },
  {
   "cell_type": "code",
   "execution_count": 1158,
   "id": "da2304ef-080c-4ba2-b96e-04a92b9b3c47",
   "metadata": {},
   "outputs": [],
   "source": [
    "logreg = LogisticRegression()\n",
    "clf = GridSearchCV(logreg, param_grid=param_grid, cv=5, verbose=True, n_jobs=-1)"
   ]
  },
  {
   "cell_type": "code",
   "execution_count": 1159,
   "id": "8ea2e2c2-134e-4537-84f8-c3c7510723ad",
   "metadata": {},
   "outputs": [
    {
     "name": "stdout",
     "output_type": "stream",
     "text": [
      "Fitting 5 folds for each of 500 candidates, totalling 2500 fits\n"
     ]
    },
    {
     "name": "stderr",
     "output_type": "stream",
     "text": [
      "/home/kabir/anaconda3/lib/python3.8/site-packages/sklearn/model_selection/_search.py:918: UserWarning: One or more of the test scores are non-finite: [       nan        nan 0.61616345        nan 0.61616345        nan\n",
      "        nan 0.61616345        nan 0.61616345        nan        nan\n",
      " 0.61616345        nan 0.61616345        nan        nan 0.61616345\n",
      "        nan 0.61616345        nan        nan 0.61616345        nan\n",
      " 0.61616345        nan        nan 0.61616345        nan 0.61616345\n",
      "        nan        nan 0.61616345        nan 0.61616345        nan\n",
      "        nan 0.61616345        nan 0.61616345        nan        nan\n",
      " 0.61616345        nan 0.61616345        nan        nan 0.61616345\n",
      "        nan 0.61616345        nan        nan 0.61616345        nan\n",
      " 0.61616345        nan        nan 0.61616345        nan 0.61616345\n",
      "        nan        nan 0.61616345        nan 0.61616345        nan\n",
      "        nan 0.61616345        nan 0.61616345        nan        nan\n",
      " 0.61616345        nan 0.61616345        nan        nan 0.61616345\n",
      "        nan 0.61616345        nan        nan 0.61616345        nan\n",
      " 0.61616345        nan        nan 0.61616345        nan 0.61616345\n",
      "        nan        nan 0.61616345        nan 0.61616345        nan\n",
      "        nan 0.61616345        nan 0.61616345        nan        nan\n",
      " 0.61616345        nan 0.61616345        nan        nan 0.61616345\n",
      "        nan 0.61616345        nan        nan 0.61616345        nan\n",
      " 0.61616345        nan        nan 0.61616345        nan 0.61616345\n",
      "        nan        nan 0.61616345        nan 0.61616345        nan\n",
      "        nan 0.78226728        nan 0.78226728        nan        nan\n",
      " 0.78226728        nan 0.78226728        nan        nan 0.78226728\n",
      "        nan 0.78226728        nan        nan 0.78226728        nan\n",
      " 0.78226728        nan        nan 0.78226728        nan 0.78226728\n",
      "        nan        nan 0.79236708        nan 0.80245433        nan\n",
      "        nan 0.79236708        nan 0.80245433        nan        nan\n",
      " 0.79236708        nan 0.80245433        nan        nan 0.79236708\n",
      "        nan 0.80245433        nan        nan 0.79236708        nan\n",
      " 0.80245433        nan        nan 0.82153035        nan 0.82153035\n",
      "        nan        nan 0.82153035        nan 0.82153035        nan\n",
      "        nan 0.82153035        nan 0.82153035        nan        nan\n",
      " 0.82153035        nan 0.82153035        nan        nan 0.82153035\n",
      "        nan 0.82153035        nan        nan 0.82041303        nan\n",
      " 0.82041303        nan        nan 0.82041303        nan 0.82041303\n",
      "        nan        nan 0.82041303        nan 0.82041303        nan\n",
      "        nan 0.82041303        nan 0.82041303        nan        nan\n",
      " 0.82041303        nan 0.82041303        nan        nan 0.81930199\n",
      "        nan 0.81930199        nan        nan 0.81930199        nan\n",
      " 0.81930199        nan        nan 0.81930199        nan 0.81930199\n",
      "        nan        nan 0.81930199        nan 0.81930199        nan\n",
      "        nan 0.81930199        nan 0.81930199        nan        nan\n",
      " 0.82042559        nan 0.82042559        nan        nan 0.82042559\n",
      "        nan 0.82042559        nan        nan 0.82042559        nan\n",
      " 0.82042559        nan        nan 0.82042559        nan 0.82042559\n",
      "        nan        nan 0.82042559        nan 0.82042559        nan\n",
      "        nan 0.82379009        nan 0.82379009        nan        nan\n",
      " 0.82379009        nan 0.82379009        nan        nan 0.82379009\n",
      "        nan 0.82267278        nan        nan 0.82379009        nan\n",
      " 0.82267278        nan        nan 0.82379009        nan 0.82267278\n",
      "        nan        nan 0.82379009        nan 0.82379009        nan\n",
      "        nan 0.82379009        nan 0.82379009        nan        nan\n",
      " 0.82379009        nan 0.82379009        nan        nan 0.82379009\n",
      "        nan 0.82379009        nan        nan 0.82379009        nan\n",
      " 0.82379009        nan        nan 0.82379009        nan 0.82379009\n",
      "        nan        nan 0.82379009        nan 0.82379009        nan\n",
      "        nan 0.82379009        nan 0.82379009        nan        nan\n",
      " 0.82379009        nan 0.82379009        nan        nan 0.82379009\n",
      "        nan 0.82379009        nan        nan 0.82379009        nan\n",
      " 0.82379009        nan        nan 0.82379009        nan 0.82379009\n",
      "        nan        nan 0.82379009        nan 0.82379009        nan\n",
      "        nan 0.82379009        nan 0.82379009        nan        nan\n",
      " 0.82379009        nan 0.82379009        nan        nan 0.82379009\n",
      "        nan 0.82379009        nan        nan 0.82379009        nan\n",
      " 0.82379009        nan        nan 0.82379009        nan 0.82379009\n",
      "        nan        nan 0.82379009        nan 0.82379009        nan\n",
      "        nan 0.82379009        nan 0.82379009        nan        nan\n",
      " 0.82379009        nan 0.82379009        nan        nan 0.82379009\n",
      "        nan 0.82379009        nan        nan 0.82379009        nan\n",
      " 0.82379009        nan        nan 0.82379009        nan 0.82379009\n",
      "        nan        nan 0.82379009        nan 0.82379009        nan\n",
      "        nan 0.82379009        nan 0.82379009        nan        nan\n",
      " 0.82379009        nan 0.82379009        nan        nan 0.82379009\n",
      "        nan 0.82379009        nan        nan 0.82379009        nan\n",
      " 0.82379009        nan        nan 0.82379009        nan 0.82379009\n",
      "        nan        nan 0.82379009        nan 0.82379009        nan\n",
      "        nan 0.82379009        nan 0.82379009        nan        nan\n",
      " 0.82379009        nan 0.82379009        nan        nan 0.82379009\n",
      "        nan 0.82379009        nan        nan 0.82379009        nan\n",
      " 0.82379009        nan        nan 0.82379009        nan 0.82379009\n",
      "        nan        nan 0.82379009        nan 0.82379009        nan\n",
      "        nan 0.82379009        nan 0.82379009        nan        nan\n",
      " 0.82379009        nan 0.82379009        nan        nan 0.82379009\n",
      "        nan 0.82379009]\n",
      "  warnings.warn(\n"
     ]
    }
   ],
   "source": [
    "best_clf = clf.fit(X_train_scaled,y_train)"
   ]
  },
  {
   "cell_type": "code",
   "execution_count": 1160,
   "id": "0b11e3da-d720-4771-bc66-a6c7e44894ed",
   "metadata": {},
   "outputs": [
    {
     "data": {
      "text/plain": [
       "LogisticRegression(C=4.281332398719396, penalty='l1', solver='liblinear')"
      ]
     },
     "execution_count": 1160,
     "metadata": {},
     "output_type": "execute_result"
    }
   ],
   "source": [
    "best_clf.best_estimator_"
   ]
  },
  {
   "cell_type": "code",
   "execution_count": 1161,
   "id": "1885d6b0-50b1-4eeb-946d-f48043b326e1",
   "metadata": {},
   "outputs": [
    {
     "data": {
      "text/plain": [
       "0.8271604938271605"
      ]
     },
     "execution_count": 1161,
     "metadata": {},
     "output_type": "execute_result"
    }
   ],
   "source": [
    "best_clf.score(X_train_scaled, y_train)"
   ]
  },
  {
   "cell_type": "code",
   "execution_count": 1162,
   "id": "904dfa21-e682-4bdd-8d08-fa8676b6ec57",
   "metadata": {},
   "outputs": [],
   "source": [
    "y_pred = best_clf.predict(X_test_scaled)"
   ]
  },
  {
   "cell_type": "code",
   "execution_count": 1163,
   "id": "e956e7df-76d2-41c0-9ffe-0b8f84e92b01",
   "metadata": {},
   "outputs": [],
   "source": [
    "submission = pd.DataFrame()"
   ]
  },
  {
   "cell_type": "code",
   "execution_count": 1164,
   "id": "56547a25-49b3-4ece-bd58-f695c6f0674f",
   "metadata": {},
   "outputs": [
    {
     "data": {
      "text/plain": [
       "(418, 2)"
      ]
     },
     "execution_count": 1164,
     "metadata": {},
     "output_type": "execute_result"
    }
   ],
   "source": [
    "submission['PassengerId'] = np.arange(len(trainReg)+1, len(df)+1)\n",
    "submission['Survived'] = y_pred\n",
    "submission.shape"
   ]
  },
  {
   "cell_type": "code",
   "execution_count": 1165,
   "id": "2825a41c-464c-495e-aeab-d3f8bd74f8b1",
   "metadata": {},
   "outputs": [],
   "source": [
    "submission.to_csv('18J2.csv',index = False)"
   ]
  },
  {
   "cell_type": "code",
   "execution_count": null,
   "id": "fd609847-27f9-4906-97e1-d66994615c64",
   "metadata": {},
   "outputs": [],
   "source": []
  }
 ],
 "metadata": {
  "kernelspec": {
   "display_name": "Python 3",
   "language": "python",
   "name": "python3"
  },
  "language_info": {
   "codemirror_mode": {
    "name": "ipython",
    "version": 3
   },
   "file_extension": ".py",
   "mimetype": "text/x-python",
   "name": "python",
   "nbconvert_exporter": "python",
   "pygments_lexer": "ipython3",
   "version": "3.8.8"
  }
 },
 "nbformat": 4,
 "nbformat_minor": 5
}
